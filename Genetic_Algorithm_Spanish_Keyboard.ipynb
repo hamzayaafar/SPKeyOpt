{
  "cells": [
    {
      "cell_type": "markdown",
      "metadata": {
        "id": "beQIAz-oaPwo"
      },
      "source": [
        "## Data Preprocessing\n"
      ]
    },
    {
      "cell_type": "code",
      "execution_count": 31,
      "metadata": {
        "id": "8fU8DrPaaPwr"
      },
      "outputs": [],
      "source": [
        "import csv\n",
        "import random\n",
        "from itertools import permutations\n",
        "import matplotlib.pyplot as plt\n",
        "import random\n",
        "from sklearn.base import BaseEstimator\n",
        "from sklearn.model_selection import GridSearchCV\n",
        "import numpy as np"
      ]
    },
    {
      "cell_type": "code",
      "execution_count": 32,
      "metadata": {
        "id": "hObvRMD8hTWw"
      },
      "outputs": [],
      "source": [
        "key_list = ['a', 'b', 'c', 'd', 'e', 'f', 'g', 'h', 'i', 'j', 'k', 'l', 'm', 'n', 'o', 'p', 'q', 'r', 's', 't', 'u', 'v', 'w', 'x', 'y', 'z', '.', ',', '´', 'ñ']\n",
        "effort_list = [3.5, 2.4, 2.0, 2.2, 3.4, 3.8, 2.2, 2.0, 2.4, 3.5, 1.5, 1.2, 1.0, 1.0, 2.9, 2.9, 1.0, 1.0, 1.2, 1.5, 3.5, 2.8, 2.5, 1.7, 2.6, 2.6, 1.7, 2.5, 2.8, 3.5]\n",
        "\n",
        "accented_char_map = {\n",
        "    'á': '´a',\n",
        "    'é': '´e',\n",
        "    'í': '´i',\n",
        "    'ó': '´o',\n",
        "    'ú': '´u',\n",
        "}\n"
      ]
    },
    {
      "cell_type": "markdown",
      "metadata": {
        "id": "p_b0CCyFaPwu"
      },
      "source": [
        "## Import Data"
      ]
    },
    {
      "cell_type": "code",
      "execution_count": 33,
      "metadata": {
        "id": "sYJNKmxOhTWy"
      },
      "outputs": [],
      "source": [
        "\n",
        "text_list = []\n",
        "\n",
        "with open('spanish_billion_words1000.csv', mode ='r')as file:\n",
        "  csvFile = csv.reader(file)\n",
        "  for lines in csvFile:\n",
        "    text = lines[0]\n",
        "    for accented_char, replacement in accented_char_map.items():\n",
        "      text = text.replace(accented_char, replacement)\n",
        "    text_list.append(text.lower() + \".\")\n",
        "\n",
        "text_list = text_list[1:]\n",
        "\n",
        "\n"
      ]
    },
    {
      "cell_type": "markdown",
      "metadata": {
        "id": "zfdv4k_vaPww"
      },
      "source": [
        "### Genetic Algorithm implementation auxiliary functions"
      ]
    },
    {
      "cell_type": "code",
      "execution_count": 34,
      "metadata": {
        "id": "Ub_-Zk1ihTWz"
      },
      "outputs": [],
      "source": [
        "def fitness(data, layout):\n",
        "    total_effort = 0\n",
        "    for sentence in data:\n",
        "        for char in sentence:\n",
        "            if char in layout.keys():\n",
        "                total_effort += layout[char]\n",
        "    return total_effort\n"
      ]
    },
    {
      "cell_type": "code",
      "execution_count": 35,
      "metadata": {
        "id": "T7B3Mx-8hTW0"
      },
      "outputs": [],
      "source": [
        "\n",
        "def create_population(population_size, key_list, effort_list):\n",
        "    population = []\n",
        "    for _ in range(population_size):\n",
        "        newdict = {}\n",
        "        shuffled_efforts = random.sample(effort_list, len(effort_list))  # Shuffle efforts\n",
        "        for key, effort in zip(key_list, shuffled_efforts):\n",
        "            newdict[key] = effort\n",
        "        population.append(newdict)\n",
        "    return population"
      ]
    },
    {
      "cell_type": "code",
      "execution_count": 36,
      "metadata": {
        "id": "dCgUyrl3hTW0"
      },
      "outputs": [],
      "source": [
        "## Randomly chooses layouts\n",
        "def tournament_selection(population, tournament_size, data):\n",
        "    selected = []\n",
        "    for _ in range(len(population)):\n",
        "        # Ensure that tournament size is not larger than the population size\n",
        "        actual_tournament_size = min(tournament_size, len(population))\n",
        "        participants = random.sample(population, actual_tournament_size)\n",
        "        winner = min(participants, key=lambda x: fitness(data, x))\n",
        "        selected.append(winner)\n",
        "    return selected"
      ]
    },
    {
      "cell_type": "code",
      "execution_count": 37,
      "metadata": {
        "id": "vTh3k-LchTW0"
      },
      "outputs": [],
      "source": [
        "## Randomly choose a point to split and then merge two different keyboard layouts, results in two children that are mixes of the parents.\n",
        "def crossover(parent1, parent2):\n",
        "    keys = list(parent1.keys())\n",
        "    random.shuffle(keys)  # Shuffle keys\n",
        "\n",
        "    # Inherit efforts from both parents randomly\n",
        "    half = len(keys) // 2\n",
        "    offspring = {key: (parent1[key] if i < half else parent2[key]) for i, key in enumerate(keys)}\n",
        "\n",
        "    # Calculate the effort frequencies from parents\n",
        "    effort_counts = {effort: list(parent1.values()).count(effort) for effort in set(parent1.values())}\n",
        "    # Get the current efforts in the child\n",
        "    current_counts = {effort: list(offspring.values()).count(effort) for effort in effort_counts}\n",
        "\n",
        "    # Identify surplus and deficit efforts\n",
        "    surplus = [(effort, current_counts[effort] - count) for effort, count in effort_counts.items() if current_counts[effort] > count]\n",
        "    deficit = [(effort, count - current_counts[effort]) for effort, count in effort_counts.items() if current_counts[effort] < count]\n",
        "\n",
        "    # Create mappings\n",
        "    surplus_dict = {effort: over for effort, over in surplus}\n",
        "    deficit_dict = {effort: under for effort, under in deficit}\n",
        "\n",
        "    # Fix distribution in child\n",
        "    for key, effort in offspring.items():\n",
        "        if effort in surplus_dict and surplus_dict[effort] > 0:\n",
        "            for def_effort, def_count in deficit:\n",
        "                if def_count > 0:\n",
        "                    # Replace one surplus effort with one in deficit\n",
        "                    offspring[key] = def_effort\n",
        "                    surplus_dict[effort] -= 1\n",
        "                    deficit_dict[def_effort] -= 1\n",
        "                    # Update the deficit list to reflect the decrement\n",
        "                    deficit = [(eff, cnt-1) if eff == def_effort else (eff, cnt) for eff, cnt in deficit]\n",
        "                    break  # Move to the next key-effort pair needing correction\n",
        "\n",
        "    return offspring\n"
      ]
    },
    {
      "cell_type": "code",
      "execution_count": 38,
      "metadata": {
        "id": "QHPrx3KWhTW0"
      },
      "outputs": [],
      "source": [
        "#Randomly swaps two positions in order to maintain genetic diversity and prevent premature convergence\n",
        "def mutate(individual, mutation_rate):\n",
        "    if random.random() < mutation_rate:\n",
        "        keys = list(individual.keys())\n",
        "        point1, point2 = random.sample(range(len(keys)), 2)\n",
        "        # Swapping the efforts associated with two keys\n",
        "        individual[keys[point1]], individual[keys[point2]] = individual[keys[point2]], individual[keys[point1]]\n",
        "    return individual"
      ]
    },
    {
      "cell_type": "code",
      "execution_count": 39,
      "metadata": {
        "id": "rBP4_UiYhTW1"
      },
      "outputs": [],
      "source": [
        "\n",
        "'''\n",
        "fit function:\n",
        "calls all other functions\n",
        "\n",
        "args: popoluation size, generations, mutatio_rate, crossover_rate, selection_pressure\n",
        "\n",
        "out: best_global_individual: dict\n",
        "    best_global_fitness: float\n",
        "'''\n",
        "def fit(population_size, generations, mutation_rate, crossover_rate, selection_pressure, plot_effort=False):\n",
        "    tournament_size = round(0.07 * population_size)\n",
        "    population = create_population(population_size, key_list, effort_list)\n",
        "    \n",
        "    best_fitness_over_generations = []\n",
        "\n",
        "    best_global_individual = None\n",
        "    best_global_fitness = float('inf')\n",
        "\n",
        "    for generation in range(generations):\n",
        "        selected = tournament_selection(population, tournament_size, text_list)\n",
        "        offspring = []\n",
        "\n",
        "        for i in range(0, len(selected) - 1, 2):\n",
        "            if random.random() < crossover_rate:\n",
        "                child = crossover(selected[i], selected[i+1])\n",
        "                offspring.append(child)\n",
        "            else:\n",
        "                offspring.extend([selected[i], selected[i+1]])\n",
        "        if len(selected) % 2 == 1:\n",
        "            offspring.append(selected[-1].copy())\n",
        "\n",
        "        for individual in offspring:\n",
        "            mutate(individual, mutation_rate)\n",
        "\n",
        "        population = offspring\n",
        "\n",
        "        # Track the best individual for this generation\n",
        "        current_generation_fitness = [(individual, fitness(text_list, individual)) for individual in population]\n",
        "        best_individual, best_fitness = min(current_generation_fitness, key=lambda x: x[1])\n",
        "\n",
        "        # Compare with the global best and update if this generation's best is better\n",
        "        if best_fitness < best_global_fitness:\n",
        "            best_global_individual = best_individual\n",
        "            best_global_fitness = best_fitness\n",
        "\n",
        "        # Only track the best fitness for each generation\n",
        "        best_fitness_over_generations.append(best_fitness/len(text_list))\n",
        "\n",
        "    # Plot the results after all generations are completed if plot_effort is True\n",
        "    if plot_effort:\n",
        "        generations = range(1, len(best_fitness_over_generations) + 1)\n",
        "        plt.figure(figsize=(10, 5))\n",
        "        plt.plot(generations, best_fitness_over_generations, marker='o', label='Best Fitness per Generation')\n",
        "        plt.xlabel('Generation')\n",
        "        plt.ylabel('Best Fitness')\n",
        "        plt.title('Best Fitness Evolution Over Generations')\n",
        "        plt.legend()\n",
        "        plt.show()\n",
        "\n",
        "    # Return the global best individual and its fitness\n",
        "    return best_global_individual, -best_global_fitness / len(text_list), best_fitness_over_generations\n",
        "\n"
      ]
    },
    {
      "cell_type": "code",
      "execution_count": 40,
      "metadata": {
        "id": "sRE5PYkjaPwz"
      },
      "outputs": [],
      "source": [
        "def print_layout(best_individual):\n",
        "    print(\"Best Layout:\")\n",
        "    for key, effort in sorted(best_individual.items(), key=lambda item: item[1]):\n",
        "        print(f\"{key}: {effort}\")"
      ]
    },
    {
      "cell_type": "code",
      "execution_count": 41,
      "metadata": {
        "colab": {
          "base_uri": "https://localhost:8080/"
        },
        "id": "clLYpNB7aPwz",
        "outputId": "0ada5f9d-85c4-4c67-b606-2e03c9c9f8b4"
      },
      "outputs": [
        {
          "name": "stdout",
          "output_type": "stream",
          "text": [
            "Best Layout:\n",
            "i: 1.0\n",
            "g: 1.0\n",
            "o: 1.0\n",
            "e: 1.0\n",
            "r: 1.2\n",
            "´: 1.2\n",
            "a: 1.5\n",
            "l: 1.5\n",
            "d: 1.7\n",
            "s: 1.7\n",
            "b: 2.0\n",
            "y: 2.0\n",
            "z: 2.2\n",
            "n: 2.2\n",
            "p: 2.4\n",
            ".: 2.4\n",
            "h: 2.5\n",
            "u: 2.5\n",
            "m: 2.6\n",
            "j: 2.6\n",
            "q: 2.8\n",
            "c: 2.8\n",
            "t: 2.9\n",
            "f: 2.9\n",
            "ñ: 3.4\n",
            "w: 3.5\n",
            "v: 3.5\n",
            "k: 3.5\n",
            "x: 3.5\n",
            ",: 3.8\n",
            "201.01600000005197\n"
          ]
        }
      ],
      "source": [
        "population_size = 100\n",
        "generations = 100\n",
        "mutation_rate = 0.05\n",
        "crossover_rate = 0.7\n",
        "selection_pressure = 0.2\n",
        "tournament_size = round(0.07 * population_size) #common practice is to use small fraction of population size (7% being used)\n",
        "random.seed(40)\n",
        "\n",
        "a, b, c = fit(population_size, generations, mutation_rate, crossover_rate, selection_pressure)\n",
        "\n",
        "print_layout(a)\n",
        "print(-b)"
      ]
    },
    {
      "cell_type": "markdown",
      "metadata": {
        "id": "vA72wicUaPw0"
      },
      "source": [
        "### Class GeneticAlgorithmOptimizer for grid search (hyper parameter tuning)\n",
        "#### fit function calls fit function above"
      ]
    },
    {
      "cell_type": "code",
      "execution_count": 42,
      "metadata": {
        "id": "SEdBYi0baPw0"
      },
      "outputs": [],
      "source": [
        "class GeneticAlgorithmOptimizer(BaseEstimator):\n",
        "    def __init__(self, population_size=100, generations=100, mutation_rate=0.05, crossover_rate=0.7, selection_pressure=0.2):\n",
        "        self.population_size = population_size\n",
        "        self.generations = generations\n",
        "        self.mutation_rate = mutation_rate\n",
        "        self.crossover_rate = crossover_rate\n",
        "        self.selection_pressure = selection_pressure\n",
        "\n",
        "    def fit(self, X, y=None):\n",
        "        random.seed(40)\n",
        "        self.best_layout_, self.best_score_, self.best_fitness_ver_gen = fit(\n",
        "            self.population_size,\n",
        "            self.generations,\n",
        "            self.mutation_rate,\n",
        "            self.crossover_rate,\n",
        "            self.selection_pressure,\n",
        "        )\n",
        "        return self\n",
        "\n",
        "    def score(self, X, y=None):\n",
        "        return self.best_score_\n"
      ]
    },
    {
      "cell_type": "markdown",
      "metadata": {
        "id": "DyvXKoVfaPw0"
      },
      "source": [
        "#### hyper parameter tuning with\n",
      ]
    },
    {
      "cell_type": "code",
      "execution_count": 43,
      "metadata": {
        "id": "f-D0sQdwhTW1"
      },
      "outputs": [
        {
          "name": "stdout",
          "output_type": "stream",
          "text": [
            "247.54170000009387\n"
          ]
        }
      ],
      "source": [
        "qwerty = {\n",
        "    'q': 3.5, 'w': 2.4, 'e': 2.0, 'r': 2.2, 't': 3.4, 'y': 3.8, 'u': 2.2, 'i': 2.0, 'o': 2.4, 'p': 3.5,\n",
        "    'a': 1.5, 's': 1.2, 'd': 1.0, 'f': 1.0, 'g': 2.9, 'h': 2.9, 'j': 1.0, 'k': 1.0, 'l': 1.2, 'ñ': 1.5,\n",
        "    'z': 3.5, 'x': 2.8, 'c': 2.5, 'v': 1.7, 'b': 2.6, 'n': 2.6, 'm': 1.7, ',': 2.5, '.': 2.8, '´': 3.5\n",
        "}\n",
        "\n",
        "print(fitness(text_list,qwerty)/len(text_list))\n"
      ]
    },
    {
      "cell_type": "code",
      "execution_count": 44,
      "metadata": {
        "id": "oJ3dgRVObjTp"
      },
      "outputs": [
        {
          "data": {
            "image/png": "iVBORw0KGgoAAAANSUhEUgAAA1IAAAHWCAYAAAB9mLjgAAAAOXRFWHRTb2Z0d2FyZQBNYXRwbG90bGliIHZlcnNpb24zLjcuMSwgaHR0cHM6Ly9tYXRwbG90bGliLm9yZy/bCgiHAAAACXBIWXMAAA9hAAAPYQGoP6dpAAB9KklEQVR4nO3deVxUVf8H8M+wzLANAygIyOqSiLjgbuaaIm5Plj0u6ZNa2SJa6k8r60nUFrMyNVPTFixN87HcS0pL0VKzVEpccMkFZVORYZNt5vz+wLk6ss3gwB3g83695vVq7j333u8dLjZfzjnfoxBCCBAREREREZHJbOQOgIiIiIiIqLZhIkVERERERGQmJlJERERERERmYiJFRERERERkJiZSREREREREZmIiRUREREREZCYmUkRERERERGZiIkVERERERGQmJlJERERERERmYiJFRHSfFAoF5syZI3cYdUp1fKarV6+GQqHAxYsXLXpeqvv27t0LhUKBvXv3yh0KEVkRJlJEJAvDl9q7X15eXujTpw927txZbdfNy8vDnDlzTP5CZPgCVdZr1KhRZR5z4MABzJkzB5mZmZYLXAZl/Yzufh06dEjuEMv0zjvvYMuWLXKHUUpRURE++ugjdOrUCWq1Gi4uLujUqRM++ugjFBUVyR1eufbv348RI0agcePGUCqV0Gg06NKlC+bNm4e0tDS5w7Oo5cuXY/Xq1XKHQUS1hJ3cARBR/TZv3jwEBwdDCIG0tDSsXr0agwYNwvbt2zFkyBCLXy8vLw9z584FAPTu3dvk41588UV06tTJaFtQUBAA4NatW7Czu/PP6YEDBzB37lyMHz8ebm5u9xuy7Aw/o3s1a9ZMhmgq98477+Dxxx/HsGHDjLb/5z//wahRo6BSqWo8ptzcXAwePBhxcXEYMmQIxo8fDxsbG8TGxuKll17Cpk2b8P3338PZ2bnGY6vI7Nmz8eabb6JJkyYYP348mjRpgvz8fBw5cgQLFy7El19+ifPnz8sdpsUsX74cDRs2xPjx44229+zZE7du3YJSqZQnMCKySkykiEhWAwcORMeOHaX3Tz/9NBo1aoT169dXSyJVVT169MDjjz9e5j4HB4cajqZm3fszqq1sbW1ha2sry7WnT5+OuLg4LF26FJMnT5a2v/DCC1i2bBkmT56MGTNmYMWKFTUWkxAC+fn5cHR0LHP/hg0b8Oabb2LEiBFYs2ZNqSRi0aJFWLRoUU2EWiWV3Z85bGxs6vzvORGZj0P7iMiquLm5wdHR0aiHBwD0ej0WL16MVq1awcHBAY0aNcJzzz2HmzdvGrX7888/MWDAADRs2BCOjo4IDg7GU089BQC4ePEiPD09AQBz586Vhqjd71ycu88xZ84czJw5EwAQHBwsXcMwL0ehUGDy5MnYsmULwsLCoFKp0KpVK8TGxpY679WrV/HUU0+hUaNGUrsvvviiVLulS5eiVatWcHJygru7Ozp27Ih169ZJ+7OzszF16lQEBQVBpVLBy8sL/fv3x9GjR+/rvoGS4WoeHh6YMGFCqX1ZWVlwcHDAjBkzpG3p6elSsuzg4IC2bdviyy+/rPQ648ePl3oA7zZnzhwoFArpvUKhQG5uLr788kvpszf0LpQ3R2r58uVo1aoVVCoVfH19ERUVVWpYZu/evREWFoaTJ0+iT58+cHJyQuPGjfHee+9VGvuVK1fw+eefo2/fvkZJlEFUVBT69OmDzz77DFeuXAEAhIWFoU+fPqXa6vV6NG7c2CipN/V3IygoCEOGDMGPP/6Ijh07wtHREStXriw37tmzZ6Nhw4b4/PPPy+yJ0Wg0Zf7u7Ny5Ez169ICzszPUajUGDx6MEydOGLUZP348XFxccPXqVQwbNgwuLi7w9PTEjBkzoNPpSt3z/d5fTEwM+vbtCy8vL6hUKoSGhpZKWoOCgnDixAnExcVJz46h17q8OVIbN25Ehw4d4OjoiIYNG2Ls2LG4evVqle/1m2++QYcOHaBWq+Hq6orWrVtjyZIlpT5jIrIOTKSISFZarRbXr1/HtWvXcOLECbzwwgvIycnB2LFjjdo999xzmDlzJrp3744lS5ZgwoQJ+PrrrzFgwABpfkl6ejoiIiJw8eJFvPrqq1i6dCnGjBkjzeXx9PSUvjw9+uijWLNmDdasWYPHHnus0jizs7Nx/fp1o5dery/V7rHHHsPo0aMBlPzF3nANQwIHAL/++ismTZqEUaNG4b333kN+fj6GDx+OGzduSG3S0tLQtWtX7N69G5MnT8aSJUvQrFkzPP3001i8eLHU7tNPP8WLL76I0NBQLF68GHPnzkW7du3w+++/S22ef/55rFixAsOHD8fy5csxY8YMODo64tSpU5XeN3DnZ3T3yxCrvb09Hn30UWzZsgWFhYVGx23ZsgUFBQXSXLJbt26hd+/eWLNmDcaMGYP3338fGo0G48ePt9iXxTVr1kClUqFHjx7SZ//cc8+V237OnDmIioqCr68vFi5ciOHDh2PlypWIiIgoNW/p5s2biIyMRNu2bbFw4UKEhITglVdeqXRO386dO6HT6fDkk0+W2+bJJ59EcXGxlFCPHDkS+/btQ2pqqlG7X3/9FcnJyUbz80z53TBITEzE6NGj0b9/fyxZsgTt2rUrM54zZ87gzJkz0hd/U61ZswaDBw+Gi4sLFixYgDfeeAMnT57EQw89VCqB1el0GDBgABo0aIAPPvgAvXr1wsKFC7Fq1Sqjdpa4vxUrViAwMBCvvfYaFi5cCH9/f0yaNAnLli2Tjl28eDH8/PwQEhIiPTuvv/56ufe6evVqjBgxAra2tpg/fz4mTpyITZs24aGHHiqViJtyr7t27cLo0aPh7u6OBQsW4N1330Xv3r3x22+/mfz5E1ENE0REMoiJiREASr1UKpVYvXq1Udv9+/cLAOLrr7822h4bG2u0ffPmzQKA+OOPP8q97rVr1wQAER0dbVKce/bsKTNOAOLChQtCCFHqfO+//77R/rsBEEqlUpw7d07a9tdffwkAYunSpdK2p59+Wvj4+Ijr168bHT9q1Cih0WhEXl6eEEKIRx55RLRq1arCe9BoNCIqKsqk+71beT8jw8/J4McffxQAxPbt242OHzRokGjSpIn0fvHixQKAWLt2rbStsLBQdOvWTbi4uIisrCxp+72f6bhx40RgYGCpGKOjo8W9/ytzdnYW48aNK/d+DD+X9PR0oVQqRUREhNDpdFK7jz/+WAAQX3zxhbStV69eAoD46quvpG0FBQXC29tbDB8+vNS17jZ16lQBQBw7dqzcNkePHhUAxPTp04UQQiQmJpZ6JoQQYtKkScLFxUX6+Zv6uyGEEIGBgQKAiI2NrTBeIYTYunWrACAWL15stF2v14tr164ZvYqKioQQQmRnZws3NzcxceJEo2NSU1OFRqMx2j5u3DgBQMybN8+obXh4uOjQoYP03lL3Z/i87jZgwACj51MIIVq1aiV69epVqq3h34E9e/YIIUqeWy8vLxEWFiZu3boltduxY4cAIGbPnm32vb700kvC1dVVFBcXl7o+EVkn9kgRkayWLVuGXbt2YdeuXVi7di369OmDZ555Bps2bZLabNy4ERqNBv379zfqFenQoQNcXFywZ88eAJAKO+zYscPiVdBmz54txWl4eXt7V+lc/fr1Q9OmTaX3bdq0gaurK/755x8AJXM7vvvuOwwdOhRCCKN7HjBgALRarTQsz83NDVeuXMEff/xR7vXc3Nzw+++/Izk5uUrx3v0zMrzu7oXp27cvGjZsiA0bNkjbbt68iV27dmHkyJHSth9++AHe3t5Sjx1Q0qP14osvIicnB3FxcVWKr6p2796NwsJCTJ06FTY2d/53OHHiRLi6uuL77783au/i4mLUU6pUKtG5c2fp51ae7OxsAIBarS63jWFfVlYWAOCBBx5Au3btjD5TnU6Hb7/9FkOHDpXm/Zj6u2EQHByMAQMGVBjv3XHc2xul1Wrh6elp9IqPjwdQ0qOSmZmJ0aNHG8Via2uLLl26lIoFKOktvVuPHj2MPk9L3d/d86QMPay9evXCP//8A61WW+nnca8///wT6enpmDRpktHcqcGDByMkJKTUs2PKvbq5uSE3Nxe7du0yOx4ikgeLTRCRrDp37mxUyGD06NEIDw/H5MmTMWTIECiVSpw9exZarRZeXl5lniM9PR0A0KtXLwwfPhxz587FokWL0Lt3bwwbNgxPPPHEfVdqa926Nfr163df5zAICAgotc3d3V2a83Ht2jVkZmZi1apVpYY5GRju+ZVXXsHu3bvRuXNnNGvWDBEREXjiiSfQvXt3qe17772HcePGwd/fHx06dMCgQYPw5JNPokmTJibFe+/P6F52dnYYPnw41q1bh4KCAqhUKmzatAlFRUVGidSlS5fQvHlzo6QFAFq2bCntr0mG67Vo0cJou1KpRJMmTUrF4+fnZzQfCyj5uf39998VXseQJBkSqrKUlWyNHDkSr732Gq5evYrGjRtj7969SE9PN/pMTf3dMCir+mJFMefk5Bhtd3Fxkb7o//TTT3j//feNYgFKEuuyuLq6Gr13cHAwGvIKGP8eGM5pifv77bffEB0djYMHDyIvL89on1arhUajKfO48pT37ABASEgIfv31V6NtptzrpEmT8L///Q8DBw5E48aNERERgREjRiAyMtKs2Iio5jCRIiKrYmNjgz59+mDJkiU4e/YsWrVqBb1eDy8vL3z99ddlHmP4gqJQKPDtt9/i0KFD2L59O3788Uc89dRTWLhwIQ4dOmTWXI/qVF7lOCEEAEhzr8aOHYtx48aV2bZNmzYASpKQxMRE7NixA7Gxsfjuu++wfPlyzJ49WyrzPmLECPTo0QObN2+WvvwuWLAAmzZtwsCBAy1yT6NGjcLKlSuxc+dODBs2DP/73/8QEhKCtm3bWuT89yYwBvdO1q9Olf3cymNIFP/+++9y5yQZkrHQ0FBp28iRIzFr1ixs3LgRU6dOxf/+9z9oNBqjL9am/m4YmFrBLiQkBACQkJBgtN3Ozk76g4KhMMbdsQAl86TK6q29t4CMKRUULXF/58+fx8MPP4yQkBB8+OGH8Pf3h1KpxA8//IBFixaVOdfR0ky5Vy8vL8THx+PHH3/Ezp07sXPnTsTExODJJ580qSALEdU8JlJEZHWKi4sB3PlreNOmTbF79250797dpC+CXbt2RdeuXfH2229j3bp1GDNmDL755hs888wz5X4ht6T7vYanpyfUajV0Op1JvWDOzs4YOXIkRo4cicLCQjz22GN4++23MWvWLGnYkY+PDyZNmoRJkyYhPT0d7du3x9tvv22xRKpnz57w8fHBhg0b8NBDD+GXX34pNVE/MDAQf//9N/R6vVGv1OnTp6X95XF3dy9zgeOyerFM/fwN10tMTDTqnSssLMSFCxcs1gM5cOBA2NraYs2aNeUWnPjqq69gZ2dnlCQFBwejc+fO2LBhAyZPnoxNmzZh2LBhRr2r5v5umKpFixZo3rw5tmzZgsWLF5u0vpVhuKqXl5fFPjtL3N/27dtRUFCAbdu2GfUGlzXUsCrPzr09cImJiRU+yxVRKpUYOnQohg4dCr1ej0mTJmHlypV44403rHbdNqL6jHOkiMiqFBUV4aeffoJSqZT+kj9ixAjodDq8+eabpdoXFxdLX7Bv3rxZqnfA0ANQUFAAAHBycgKAMr+UW4rhS2dVr2Fra4vhw4fju+++K9UjAJQM/TO4u9IfUPJFLDQ0FEIIFBUVQafTlZoD4uXlBV9fX+kzsQQbGxs8/vjj2L59O9asWYPi4mKjIWgAMGjQIKSmphrN+ykuLsbSpUvh4uKCXr16lXv+pk2bQqvVGg2jS0lJwebNm0u1dXZ2Numz79evH5RKJT766COj5+bzzz+HVqvF4MGDKz2HKfz9/TFhwgTs3r27zHWiPvnkE/zyyy94+umn4efnZ7Rv5MiROHToEL744gtcv3691Gdq6u9GVcyZMwfXr1/HxIkTy5xzeO/v2oABA+Dq6op33nmnzPZ3P7emssT9GXqD7o5Xq9UiJiamVFtTn52OHTvCy8sLn3zyidHv0c6dO3Hq1KkqPTv3/i7b2NhIPc+W/F0lIsthjxQRyWrnzp1Sj0R6ejrWrVuHs2fP4tVXX5XmVPTq1QvPPfcc5s+fj/j4eERERMDe3h5nz57Fxo0bsWTJEjz++OP48ssvsXz5cjz66KNo2rQpsrOz8emnn8LV1RWDBg0CUDL0JzQ0FBs2bMADDzwADw8PhIWFISwszGL31KFDBwDA66+/jlGjRsHe3h5Dhw416a/6Bu+++y727NmDLl26YOLEiQgNDUVGRgaOHj2K3bt3IyMjAwAQEREBb29vdO/eHY0aNcKpU6fw8ccfY/DgwVCr1cjMzISfnx8ef/xxtG3bFi4uLti9ezf++OMPLFy40KRY7v4Z3e3BBx806skZOXIkli5diujoaLRu3VpKhA2effZZrFy5EuPHj8eRI0cQFBSEb7/9Fr/99hsWL15cYTGGUaNG4ZVXXsGjjz6KF198EXl5eVixYgUeeOCBUuthdejQAbt378aHH34IX19fBAcHo0uXLqXO6enpiVmzZmHu3LmIjIzEv/71LyQmJmL58uXo1KlTqRL892PRokU4ffo0Jk2ahNjYWKnn6ccff8TWrVulctj3GjFiBGbMmIEZM2bAw8OjVE+Pqb8bVfHEE08gISEB8+fPx+HDhzFq1CgEBwcjNzcXCQkJWL9+PdRqNdzd3QGUzIFasWIF/vOf/6B9+/YYNWoUPD09cfnyZXz//ffo3r07Pv74Y7NisMT9RURESD09zz33HHJycvDpp5/Cy8sLKSkpRm07dOiAFStW4K233kKzZs3g5eVV5pwve3t7LFiwABMmTECvXr0wevRopKWlYcmSJQgKCsK0adPMuk8AeOaZZ5CRkYG+ffvCz88Ply5dwtKlS9GuXbtSv0tEZCVkqxdIRPVaWaW1HRwcRLt27cSKFSuEXq8vdcyqVatEhw4dhKOjo1Cr1aJ169bi5ZdfFsnJyUKIkhLSo0ePFgEBAUKlUgkvLy8xZMgQ8eeffxqd58CBA6JDhw5CqVRWWgrdUPZ448aN5bYp6xxvvvmmaNy4sbCxsSlVKr2sUuSBgYGlSnanpaWJqKgo4e/vL+zt7YW3t7d4+OGHxapVq6Q2K1euFD179hQNGjQQKpVKNG3aVMycOVNotVohREmJ7pkzZ4q2bdsKtVotnJ2dRdu2bcXy5cvLvR+DisqfAxAxMTFG7fV6vfD39xcAxFtvvVXmOdPS0sSECRNEw4YNhVKpFK1bty51HsPndO9n+tNPP4mwsDChVCpFixYtxNq1a8ssf3769GnRs2dP4ejoKABIn+u95c8NPv74YxESEiLs7e1Fo0aNxAsvvCBu3rxp1KZXr15llpkvryx7WQoKCsSiRYtEhw4dhLOzs3BychLt27cXixcvFoWFheUe1717dwFAPPPMM+W2qex3Q4iSZ2zw4MEmxXq3vXv3iscff1z4+PgIe3t74erqKjp27Ciio6NFSkpKqfZ79uwRAwYMEBqNRjg4OIimTZuK8ePHG/0ejhs3Tjg7O5c6tqyfpyXub9u2baJNmzbCwcFBBAUFiQULFogvvvii1POQmpoqBg8eLNRqtQAglUK/t/y5wYYNG0R4eLhQqVTCw8NDjBkzRly5csWojan3+u2334qIiAjh5eUllEqlCAgIEM8991yZnzERWQeFEJXMkiUiIiIiIiIjnCNFRERERERkJiZSREREREREZmIiRUREREREZCYmUkRERERERGZiIkVERERERGQmJlJERERERERmknVB3vnz52PTpk04ffo0HB0d8eCDD2LBggVo0aIFACAjIwPR0dH46aefcPnyZXh6emLYsGF48803odFopPMoFIpS516/fj1GjRplUhx6vR7JyclQq9VlnouIiIiIiOoHIQSys7Ph6+sLG5vy+51kTaTi4uIQFRWFTp06obi4GK+99hoiIiJw8uRJODs7Izk5GcnJyfjggw8QGhqKS5cu4fnnn0dycjK+/fZbo3PFxMRIK8UDgJubm8lxJCcnw9/f31K3RUREREREtVxSUhL8/PzK3W9VC/Jeu3YNXl5eiIuLQ8+ePctss3HjRowdOxa5ubmwsyvJAxUKBTZv3oxhw4ZV6bparRZubm5ISkqCq6trVcMnIiIiIqJaLisrC/7+/sjMzDQaBXcvWXuk7qXVagEAHh4eFbZxdXWVkiiDqKgoPPPMM2jSpAmef/55TJgwodxhegUFBSgoKJDeZ2dnAwBcXV2ZSBERERERUaVTfqwmkdLr9Zg6dSq6d++OsLCwMttcv34db775Jp599lmj7fPmzUPfvn3h5OSEn376CZMmTUJOTg5efPHFMs8zf/58zJ071+L3QERERERE9YPVDO174YUXsHPnTvz6669ljkXMyspC//794eHhgW3btsHe3r7cc82ePRsxMTFISkoqc/+9PVKG7jtDbxcREREREdVPWVlZ0Gg0leYGVlH+fPLkydixYwf27NlTZhKVnZ2NyMhIqNVqbN68ucIkCgC6dOmCK1euGCVLd1OpVNIwPg7nIyIiIiIic8k6tE8IgSlTpmDz5s3Yu3cvgoODS7XJysrCgAEDoFKpsG3bNjg4OFR63vj4eLi7u0OlUlksVp1Oh6KiIoudj4hqhq2tLezs7Li0AREREVmUrIlUVFQU1q1bh61bt0KtViM1NRUAoNFo4OjoiKysLERERCAvLw9r165FVlYWsrKyAACenp6wtbXF9u3bkZaWhq5du8LBwQG7du3CO++8gxkzZlgszpycHFy5cgVWMgqSiMzk5OQEHx8fKJVKuUMhIiKiOkLWOVLl/YU4JiYG48ePx969e9GnT58y21y4cAFBQUGIjY3FrFmzcO7cOQgh0KxZM7zwwguYOHFihQto3a2icZA6nQ5nz56Fk5MTPD09+VdtolpECIHCwkJcu3YNOp0OzZs3N/nfBSIiIqqfTJ0jZTXFJuRU0YeVn58vJW2Ojo4yRUhE9yMvLw+XLl1CcHCwScODiYiIqP6qVcUmagP2RBHVXuyFIiIiIkvjtwsiIiIiIiIzWc2CvERERFS/6PQChy9kID07H15qB3QO9oCtTeUjQGr6uPpyzdoUqxzXZKzWd025MZGqIbX1Aalu48ePR2ZmJrZs2SJ3KCSTOXPmYMuWLYiPj5c7FCKqQbEJKZi7/SRStPnSNh+NA6KHhiIyzMdqjqsv16xNscpxTcZqfde0Biw2AdOKTdzPJHU5HpDx48fjyy+/lN57eHigU6dOeO+999CmTRuLXMPUL8Bz5szB3LlzS23ftWsXOnXqBCEE3NzcAAC9e/dGu3btsHjxYovEWFecO3cO77zzDnbv3o20tDQ0bNgQISEheOqppzBy5EjY2dWOv4koFAps3rwZw4YNk7bl5OSgoKAADRo0qLbrWuL3mIgsJzYhBS+sPYp7v4AY/ry4Ymz7Mv//WNPH1Zdr1qZY5bgmY7W+a1Y3FpuwEoYH5O4kCgBStfl4Ye1RxCakVNu1IyMjkZKSgpSUFPz888+ws7PDkCFDqu16FWnVqpUUi+HVs2dPaDQaKYmq78pb8Pnw4cNo3749Tp06hWXLliEhIQF79+7FM888gxUrVuDEiRM1HKkxnU4HvV5f5eNdXFyqNYkiIuui0wvM3X6y1BcnANK2udtPQqc3blHTx9WXa9amWOW4JmO1vmtaE/ZIwbweKSEEbhXpTDqvTi/Q78M4pGUVlLlfAaCRqwN2Te9p0jA/R3tbk6sHljVk7tdff0WPHj2Qnp4OT09PAEBSUhL+7//+Dz/99BNsbGzQo0cPLFmyBEFBQQCAvXv34uWXX8aJEydgb2+PVq1aYd26ddizZw8mTJhgdE3D+l/3qqjn6u447+1FA0rWC7t48SL69OmD3bt345VXXsHJkyfRrl07xMTEoEWLFlLbrVu3Yu7cuTh58iR8fX0xbtw4vP7667Czs4MQAnPnzsUXX3yBtLQ0NGjQAI8//jg++ugjAMDy5cuxaNEiJCUlQaPRoEePHvj222/L/GxXr16NqVOnYvXq1Zg5cyaSkpLQq1cvfPbZZ/D39zcpHqCkd2b58uXYuXMnfv75Z8ycORNz5swxupYQAq1atYKTkxMOHz5cZvU5IYT0XFT28zR83g899BAWLlyIwsJCjBo1CosXL4a9vT0AoKCgAK+//jrWr1+PzMxMhIWFYcGCBejdu7fR/X/11Vd49dVXcebMGZw7dw7Xrl3Da6+9hmPHjqGoqAjt2rXDokWL0L59ewBAUFAQLl26JMUdGBiIixcvlno+9Ho93nrrLaxatQrXrl1Dy5Yt8e677yIyMhIAcPHiRQQHB+O7777D0qVL8fvvv6N58+b45JNP0K1btzJ/ZuyRIrIeB8/fwOhPD1Xazt/dEc6qO73tuQXFSLp5q8aOqy/XrE2xynFNxir/NddP7IpuTWv2D66m9kjVjvFAVuRWkQ6hs3+0yLkEgNSsfLSe85NJ7U/OGwAnZdV+ZDk5OVi7di2aNWsm/fW/qKgIAwYMQLdu3bB//37Y2dnhrbfeQmRkJP7++2/Y2Nhg2LBhmDhxItavX4/CwkIcPnwYCoUCI0eOREJCAmJjY7F7924AgEajqVJsBkuWLMGZM2cQFhaGefPmAQA8PT1x8eJFAMDrr7+OhQsXwtPTE88//zyeeuop/PbbbwCA/fv348knn8RHH32EHj164Pz583j22WcBANHR0fjuu++waNEifPPNN2jVqhVSU1Px119/AQD+/PNPvPjii1izZg0efPBBZGRkYP/+/RXGmpeXh7fffhtfffUVlEolJk2ahFGjRpkcj8GcOXPw7rvvYvHixWUOz4uPj8epU6ewfv36ckt4G5Koyn6eSqUSALBnzx74+Phgz549OHfuHEaOHIl27dph4sSJAIDJkyfj5MmT+Oabb+Dr64vNmzcjMjISx48fR/PmzaX7X7BgAT777DM0aNAAXl5e+OeffzBu3DgsXboUQggsXLgQgwYNwtmzZ6FWq/HHH3/Ay8sLMTExiIyMhK2tbbnPwcKFC7Fy5UqEh4fjiy++wL/+9S+cOHFCur7hefjggw/QvHlzvP766xg9ejTOnTtXa4Y5EtVX6dn5lTcCTPqCZQ3H1Zdr1qZY5bgmY62+a5r6b4Yc+I2jDtuxYwdcXFwAALm5ufDx8cGOHTukL+QbNmyAXq/HZ599Jn0Zj4mJgZubG/bu3YuOHTtCq9ViyJAhaNq0KQCgZcuW0vldXFxgZ2cHb2/vSmM5fvy4FAsAhIaG4vDhw0ZtNBoNlEolnJycyjzn22+/jV69egEAXn31VQwePBj5+flwcHDA3Llz8eqrr2LcuHEAgCZNmuDNN9/Eyy+/jOjoaFy+fBne3t7o168f7O3tERAQgM6dOwMALl++DGdnZwwZMgRqtRqBgYEIDw+v8H6Kiorw8ccfo0uXLgCAL7/8Ei1btsThw4fRuXPnSuMxeOKJJ0r17N3tzJkzAGDU85aeno4mTZpI79977z1MmjSp0p9nREQEAMDd3R0ff/wxbG1tERISgsGDB+Pnn3/GxIkTcfnyZcTExODy5cvw9fUFAMyYMQOxsbGIiYnBO++8I93/8uXL0bZtWymOvn37GsW+atUquLm5IS4uDkOGDJF6Qd3c3Cp8Zj744AO88sorGDVqFABgwYIF2LNnDxYvXoxly5ZJ7WbMmIHBgwcDAObOnYtWrVrh3LlzCAkJKffcRCQ/L7VpvcKvDWqJUJ87fwk+mZKFd344VWPH1Zdr1qZY5bgmY5X/mqb+myEHJlJmcrS3xcl5A0xqe/hCBsbH/FFpu9UTOqFzsIdJ1zZHnz59sGLFCgDAzZs3sXz5cgwcOBCHDx9GYGAg/vrrL5w7dw5qtdrouPz8fJw/fx4REREYP348BgwYgP79+6Nfv34YMWIEfHzMn/TXokULbNu2TXqvUqnMPsfdRTIMMaSnpyMgIAB//fUXfvvtN7z99ttSG51Oh/z8fOTl5eHf//43Fi9ejCZNmiAyMhKDBg3C0KFDYWdnh/79+yMwMFDaFxkZiUcffRROTk7lxmJnZ4dOnTpJ70NCQuDm5oZTp06hc+fOlcZjOHfHjh3N/hwaNGggDYPr3bs3CgsLAaDSn6dBq1atjHqDfHx8cPz4cQAlCa9Op8MDDzxgdI57i0EolcpSRUvS0tLw3//+F3v37kV6ejp0Oh3y8vJw+fJlk+8tKysLycnJ6N69u9H27t27Sz2IBuU9D0ykiKxb52AP+GgckKrNL3NuhAKAt8YBTz8UbDTsvVvTBoj57UKNHVdfrlmbYpXjmoxV/mua8h1ZLiw2YSaFQgEnpZ1Jrx7NPeGjcYCivHOhpHpfj+aeJp3P1PlRBs7OzmjWrBmaNWuGTp064bPPPkNubi4+/fRTACXD/Tp06ID4+Hij15kzZ/DEE08AKOnROHjwIB588EFs2LABDzzwAA4dqnxs+72USqUUS7NmzYzmEpnKMIcHuDOczVDkICcnB3PnzjW6j+PHj+Ps2bNwcHCAv78/EhMTsXz5cjg6OmLSpEno2bMnioqKoFarcfToUaxfvx4+Pj6YPXs22rZti8zMTLNjNKgsHgNnZ+cKz2MYypaYmChts7W1lT7Hu4exmfLzvPdzBEo+y7s/R1tbWxw5csToHKdOncKSJUukYxwdHUs9j+PGjUN8fDyWLFmCAwcOID4+Hg0aNJASPUur6HkgIutla6NA9NDQcr84AUD00NBSX7oMx93drjqPqy/XrE2xynFNxmp917QmTKSqkbU9IAqFAjY2Nrh1q2Scavv27XH27Fl4eXkZJTnNmjUzmu8UHh6OWbNm4cCBAwgLC8O6desAlCRHOp1phTdMVdVztm/fHomJiaXuo1mzZtJQRkdHRwwdOhQfffQR9u7di4MHD0o9MXZ2dujXrx/ee+89/P3337h48SJ++eWXcq9XXFyMP//8U3qfmJiIzMxMaeijKfGYIjw8HCEhIfjggw8qTRJM/XlWdj2dTof09PRS56hsCOdvv/2GF198EYMGDUKrVq2gUqlw/fp1ozb29vYV/nxdXV3h6+srzTW7+9yhoaEm3QMRWb/IMB/0CfEstd1b41BhuePIMB+sGNse3hqHGjmuvlyzNsUqxzUZq/Vd01pwaF81Mzwg964j5V0DC40VFBQgNTUVQMnQvo8//hg5OTkYOnQoAGDMmDF4//338cgjj2DevHnw8/PDpUuXsGnTJrz88ssoKirCqlWr8K9//Qu+vr5ITEzE2bNn8eSTTwIoqcJ24cIFxMfHw8/PD2q1ukpD9u4WFBSE33//HRcvXoSLiws8PEzrzp09ezaGDBmCgIAAPP7447CxscFff/2FhIQEvPXWW1i9ejV0Oh26dOkCJycnrF27Fo6OjggMDMSOHTvwzz//oGfPnnB3d8cPP/wAvV5vNC/pXvb29pgyZQo++ugj2NnZYfLkyejatas076qyeEylUCgQExOD/v37o3v37pg1axZatmyJoqIi7Nu3D9euXZOG6VX28/Tz86v0eg888ADGjBmDJ598EgsXLkR4eDiuXbuGn3/+GW3atJHmJJWlefPmWLNmDTp27IisrCzMnDkTjo6ORm2CgoLw888/o3v37lCpVHB3dy91npkzZyI6OhpNmzaVqjPGx8fj66+/NvlzIyLrd+l6HgBgWr/mCGrobPJi9ZFhPugf6m32IvdVPa6+XLM2xSrHNRmr9V3TKggSWq1WABBarbbUvlu3bomTJ0+KW7du3dc1inV6ceDcdbHl2BVx4Nx1UazT39f5KjNu3DiBksKAAoBQq9WiU6dO4ttvvzVql5KSIp588knRsGFDoVKpRJMmTcTEiROFVqsVqampYtiwYcLHx0colUoRGBgoZs+eLXQ6nRBCiPz8fDF8+HDh5uYmAIiYmJgyY4mOjhZt27YtN85HHnlEep+YmCi6du0qHB0dBQBx4cIFsWfPHgFA3Lx5U2p37Ngxab9BbGysePDBB4Wjo6NwdXUVnTt3FqtWrRJCCLF582bRpUsX4erqKpydnUXXrl3F7t27hRBC7N+/X/Tq1Uu4u7sLR0dH0aZNG7Fhw4ZyP9uYmBih0WjEd999J5o0aSJUKpXo16+fuHTpklG7iuIRQggAYvPmzeVe526JiYli3Lhxws/PT9jZ2QmNRiN69uwpVq5cKYqKiqR2Ff08y/q8hRDipZdeEr169ZLeFxYWitmzZ4ugoCBhb28vfHx8xKOPPir+/vtvo/u/19GjR0XHjh2Fg4ODaN68udi4caMIDAwUixYtktps27ZNNGvWTNjZ2YnAwEAhROnnQ6fTiTlz5ojGjRsLe3t70bZtW7Fz505p/4ULFwQAcezYMWnbzZs3BQCxZ8+eMj8/S/0eE5FlXLqeKwJf2SGazvpeaG8Vyh0OEZGRinKDu3EdKZi3jhSRYR2l+5lDRTWLv8dE1mXNwYt4Y+sJdA72wP+eK3v9NyIiuZi6jhTnSBEREVGNijtzDQDQ64HS86SIiGoLJlJERERUYwqKdThw/gYAoHcLJlJEVHsxkSIy0/jx4zmsj4ioiv64cBN5hTp4qlWlFugkIqpNmEgRERFRjYk7kw6gZFifuesjEhFZEyZSJmJNDqLai7+/RNZjb2LJ/CgO6yOi2o6JVCUMa/QUFhbKHAkRVVVeXsl6Nfb29jJHQlS/Xc28hbPpObBRAA81ayh3OERE94UL8lbCzs4OTk5OuHbtGuzt7WFjw9yTqLYQQiAvLw/p6elwc3OT/jBCRPKIu90bFR7gDjcnpczREBHdHyZSlVAoFPDx8cGFCxdw6dIlucMhoipwc3ODt7e33GEQ1Xt7E+/MjyIiqu2YSJlAqVSiefPmHN5HVAvZ29uzJ4rIChQW61n2nIjqFCZSJrKxsYGDg4PcYRAREdVKRy7dRE5BMRo4KxHmq5E7HCKi+8YJP0RERFTt4s6UzI/q+YAnbGxY9pyIaj8mUkRERFTtDPOjOKyPiOoKJlJERERUrVK1+Tidmg2FAujRnIkUEdUNTKSIiIioWu27PayvjZ8bPJxZ9pyI6gYmUkRERFSt9p65PayPZc+JqA5hIkVERETVplinx/6z1wEAvTg/iojqECZSREREVG2OJWUiO78Ybk72aOvnJnc4REQWw0SKiIiIqo2hWl+P5p6wZdlzIqpDmEgRERFRtTGsH8X5UURU1zCRIiIiomqRnp2PhKtZAEoW4iUiqkuYSBEREVG12H+mpMhEWGNXeKpVMkdDRGRZsiZS8+fPR6dOnaBWq+Hl5YVhw4YhMTFR2p+RkYEpU6agRYsWcHR0REBAAF588UVotVqj81y+fBmDBw+Gk5MTvLy8MHPmTBQXF9f07RAREdFd9krD+rxkjoSIyPJkTaTi4uIQFRWFQ4cOYdeuXSgqKkJERARyc3MBAMnJyUhOTsYHH3yAhIQErF69GrGxsXj66aelc+h0OgwePBiFhYU4cOAAvvzyS6xevRqzZ8+W67aIiIjqPZ1eYP/ZkkSKZc+JqC5SCCGE3EEYXLt2DV5eXoiLi0PPnj3LbLNx40aMHTsWubm5sLOzw86dOzFkyBAkJyejUaNGAIBPPvkEr7zyCq5duwalsvIV1LOysqDRaKDVauHq6mrReyIiIqqPjl6+iceWH4DawQ7H3ugPO1vOJiCi2sHU3MCq/lUzDNnz8PCosI2rqyvs7OwAAAcPHkTr1q2lJAoABgwYgKysLJw4caLMcxQUFCArK8voRURERJazN7GkN6pH84ZMooioTrKaf9n0ej2mTp2K7t27IywsrMw2169fx5tvvolnn31W2paammqURAGQ3qemppZ5nvnz50Oj0Ugvf39/C90FERERAXeXPef8KCKqm6wmkYqKikJCQgK++eabMvdnZWVh8ODBCA0NxZw5c+7rWrNmzYJWq5VeSUlJ93U+IiIiuuNGTgH+vpIJgPOjiKjuspM7AACYPHkyduzYgX379sHPz6/U/uzsbERGRkKtVmPz5s2wt7eX9nl7e+Pw4cNG7dPS0qR9ZVGpVFCpWIaViIioOuw/ex1CACHeajRydZA7HCKiaiFrj5QQApMnT8bmzZvxyy+/IDg4uFSbrKwsREREQKlUYtu2bXBwMP4HuVu3bjh+/DjS09Olbbt27YKrqytCQ0Or/R6IiIjImDSsrwWH9RFR3SVrj1RUVBTWrVuHrVu3Qq1WS3OaNBoNHB0dpSQqLy8Pa9euNSoM4enpCVtbW0RERCA0NBT/+c9/8N577yE1NRX//e9/ERUVxV4nIiKiGqbXC+y7nUj1eoDD+oio7pI1kVqxYgUAoHfv3kbbY2JiMH78eBw9ehS///47AKBZs2ZGbS5cuICgoCDY2tpix44deOGFF9CtWzc4Oztj3LhxmDdvXo3cAxEREd2RkKzFjdxCuKjs0CHQXe5wiIiqjayJVGVLWPXu3bvSNgAQGBiIH374wVJhERERURUZyp4/2LQBlHZWU9OKiMji+C8cERERWczexJI5y5wfRUR1HRMpIiIisojMvELEJ2UCYNlzIqr7mEgRERGRRew/ex16ATT3ckFjN0e5wyEiqlZMpIiIiMgi7pQ9Z28UEdV9TKSIiIjovun1Qkqkej3A+VFEVPcxkSIiIqL7djIlC9eyC+CktEWnYJY9J6K6T9by50REVJpOL3D4QgbSs/PhpXZA52AP2Nooqu04Oa7JWOvONQ3Hff37JQBAtyYeUNnZmhQrEVFtxkSKiMiKxCakYO72k0jR5kvbfDQOiB4aisgwH4sfJ8c1GWvduWZZx/1x8SZiE1IqjZWIqLZTCFNWvK3jsrKyoNFooNVq4erqKnc4RFRPxSak4IW1R3HvP8qGPoEVY9uX+eW0qsfJcU3GWneuWd5xhmMripWIyJqZmhuwR4qIyAro9AJzt58s80upYdvsrScQ6qsxGm6l0wu8sfWE2cfdz7E1fRxjtb5rVnScwdztJ9E/1NvkIYlERLUNe6TAHikikt/B8zcw+tNDcodBZFHrJ3ZFt6YN5A6DiMgs7JEiIqpF0rPzK28EwM5GUapnoFhf+d/D7j3ufo6t6eMYq/Vd09TjTH2uiYhqIyZSRERWwEvtYFK7NU93MfoLv6k9Wfcedz/H1vRxjNX6rmnqcaY+10REtRHXkSIisgKdgz3go3FAebNJFCipotY52MMix8lxTcZad655P7ESEdUVTKSIiKyArY0C0UNDy9xn+LIaPTS01JCuu4+790ttRcfdz7E1fRxjtb5r3k+sRER1BRMpIiIrERnmg3mPhJXa7q1xqLCUdGSYD1aMbQ9vjYNZx93PsTV9HGO1vmveT6xERHUBq/aBVfuIyHr8cDwFk74+iiYNnfFSv+bwUpcMjzLlL/s6vcDhCxlIz84367j7Obamj2Os1nfN+4mViMgamZobMJECEykish7vxZ7G8r3nMbpzAOY/1lrucIiIiOodU3MDDu0jIrIiCclZAICwxvyjDhERkTVjIkVEZCWEEDhxVQsAaOWrkTkaIiIiqggTKSIiK5GWVYAbuYWwtVEgxFstdzhERERUASZSRERWIuF2b1RzLxc42NvKHA0RERFVhIkUEZGVSEjmsD4iIqLagokUEZGVOHG70EQrXxaaICIisnZMpIiIrISh0ERYY/ZIERERWTsmUkREVuBGTgGStfkAgFD2SBEREVk9JlJERFbAMKyvSUNnuKjsZI6GiIiIKsNEiojICkjzozisj4iIqFZgIkVEZAXuVOzjsD4iIqLagIkUEZEVkApNsPQ5ERFRrcBEiohIZln5Rbh4Iw8Ae6SIiIhqCyZSREQyO3l7flRjN0e4OytljoaIiIhMwUSKiEhmXIiXiIio9mEiRUQkMy7ES0REVPswkSIikpmhYl9YY/ZIERER1RZMpIiIZHSrUIdz6TkAWLGPiIioNmEiRUQko9OpWdALoKGLCl6uDnKHQ0RERCaSNZGaP38+OnXqBLVaDS8vLwwbNgyJiYlGbVatWoXevXvD1dUVCoUCmZmZpc4TFBQEhUJh9Hr33Xdr6C6IiKou4XahCQ7rIyIiql1kTaTi4uIQFRWFQ4cOYdeuXSgqKkJERARyc3OlNnl5eYiMjMRrr71W4bnmzZuHlJQU6TVlypTqDp+I6L5xIV4iIqLayU7Oi8fGxhq9X716Nby8vHDkyBH07NkTADB16lQAwN69eys8l1qthre3d3WESURUbVhogoiIqHayqjlSWm3JFwoPDw+zj3333XfRoEEDhIeH4/3330dxcXG5bQsKCpCVlWX0IiKqaYXFepxJLSk00Yo9UkRERLWKrD1Sd9Pr9Zg6dSq6d++OsLAws4598cUX0b59e3h4eODAgQOYNWsWUlJS8OGHH5bZfv78+Zg7d64lwiYiqrKz6dko1OmhcbSHn7uj3OEQERGRGawmkYqKikJCQgJ+/fVXs4+dPn269N9t2rSBUqnEc889h/nz50OlUpVqP2vWLKNjsrKy4O/vX7XAiYiq6MTVkt7wVr4lxXSIiIio9rCKRGry5MnYsWMH9u3bBz8/v/s+X5cuXVBcXIyLFy+iRYsWpfarVKoyEywiopp0Z34Uh/URERHVNrImUkIITJkyBZs3b8bevXsRHBxskfPGx8fDxsYGXl5eFjkfEVF1SLhdsa+VLwtNEBER1TayJlJRUVFYt24dtm7dCrVajdTUVACARqOBo2PJfIHU1FSkpqbi3LlzAIDjx49DrVYjICAAHh4eOHjwIH7//Xf06dMHarUaBw8exLRp0zB27Fi4u7vLdm9ERBXR6QVOpWQDYKEJIiKi2kjWqn0rVqyAVqtF79694ePjI702bNggtfnkk08QHh6OiRMnAgB69uyJ8PBwbNu2DUDJML1vvvkGvXr1QqtWrfD2229j2rRpWLVqlSz3RERkigvXc3CrSAcnpS2CGzrLHQ4RERGZSSGEEHIHIbesrCxoNBpotVq4unKIDRFVvy3HrmLqhnh0DHTHty88KHc4REREdJupuYFVrSNFRFRfGOZHsdAEERFR7cREiohIBieSS0qfh7LQBBERUa3ERIqIqIYJIe6UPmehCSIiolqJiRQRUQ1LyriF7PxiKG1t0LyRi9zhEBERURUwkSIiqmGG3qgQHzXsbfnPMBERUW0k6zpSZEynFzh8IQPp2fnwUjugc7AHbG0UcodFRBZ2ZyFeDusjIiKqrZhIWYnYhBTM3X4SKdp8aZuPxgHRQ0MRGeYjY2REZGmGQhOtWGiCiIio1uKYEisQm5CCF9YeNUqiACBVm48X1h5FbEKKTJERkaUJIVj6nIiIqA5gIiUznV5g7vaTKGtVZMO2udtPQqev9+smE9UJaVkFuJFbCFsbBUK81XKHQ0RERFXEREpmhy9klOqJupsAkKLNx+ELGTUXFBFVG0NvVHMvFzjY28ocDREREVUVEymZpWeXn0RVpR0RWTcuxEtERFQ3MJGSmZfawaLtiMi6cSFeIiKiuoGJlMw6B3vAR+OA8oqcK1BSva9zsEdNhkVE1eQEC00QERHVCUykZGZro0D00FAAKJVMGd5HDw3lelJEdUBGbiGSb8+J5NA+IiKi2o2JlBWIDPPBirHt4a0xHr7nrXHAirHtuY4UUR1x4vawvuCGznBRcRk/IiKi2oz/J7cSkWE+6B/qjXd3nsKn+y+gnb8G373QnT1RRHVIwlUuxEtERFRXsEfKitjaKNCjuScA4FahnkkUUR0jFZrg/CgiIqJaj4mUlfF1cwQAXM28BSG4CC9RXSIVmmDFPiIiolqPiZSV8XUrmSeVU1CMrPximaMhIkvJyi/CxRt5ADi0j4iIqC5gImVlnJR28HBWAgCSM2/JHA0RWcqp2wvxNnZzhPvt33EiIiKqvZhIWSFDrxQTKaK6IyGZhSaIiIjqEiZSVshXc2eeFBHVDVyIl4iIqG5hImWF7i44QUR1w52KfeyRIiIiqguYSFkhP/eSRCo5M1/mSIjIEm4V6nAuPQcA0IoV+4iIiOoEJlJWSOqRupkncyREZAmnU7OgF0BDFxW81Cq5wyEiIiILYCJlhQyJFHukiOoGQ6GJsMauUCi40DYREVFdwETKCjW+nUilZeejSKeXORoiul9ciJeIiKjuYSJlhRo4K6G0s4EQQKqWvVJEtZ2h0ARLnxMREdUdTKSskI2NAr6akrWkWLmPqHYrLNbjTGpJoQmWPiciIqo7mEhZqTvzpJhIEdVmZ9OzUajTw9XBTqrISURERLUfEykr1ZiJFFGdcOKqodCEhoUmiIiI6hAmUlaKi/IS1Q13FuLlsD4iIqK6xE7uAKhsjaVEisUmiCxBpxc4fCED6dn58FI7oHOwB2xtKu8hut/j9p+9DgBo6a2+73sgIiIi68FEyko1dufQPiJLiU1IwdztJ5FyVxVMH40DooeGIjLMp0aOe/uHU3BU2lZ4HBEREdUeHNpnpe4uNiGEkDkaotorNiEFL6w9apTUACVLC7yw9ihiE1Jq5LgbOYUVHkdERES1C3ukrJTP7fLneYU6ZOYVwd1ZKXNERLWPTi8wd/tJlPWnCMO2N7aeQHBDZ6Phejq9wH+3JFj8OAWAudtPon+ot0nDA4mIiMh6yZpIzZ8/H5s2bcLp06fh6OiIBx98EAsWLECLFi2kNqtWrcK6detw9OhRZGdn4+bNm3BzczM6T0ZGBqZMmYLt27fDxsYGw4cPx5IlS+Di4lLDd2Q5Dva2aOiixPWcQlzNvMVEiqgKDl/IKNUzdK9r2QUYsHi/2eeuynECQIo2H4cvZKBb0wZmX5OIiIish6xD++Li4hAVFYVDhw5h165dKCoqQkREBHJzc6U2eXl5iIyMxGuvvVbuecaMGYMTJ05g165d2LFjB/bt24dnn322Jm6hWrEEOtH9Sc82rViLk9IWbk720stJaVutx5kaFxEREVkvWXukYmNjjd6vXr0aXl5eOHLkCHr27AkAmDp1KgBg7969ZZ7j1KlTiI2NxR9//IGOHTsCAJYuXYpBgwbhgw8+gK+vb7XFX9183Rzx1xUtS6ATVZGX2sGkdp+P62TUQ3Tw/A2M/vRQtR1nalxERERkvayq2IRWW7LeioeHh8nHHDx4EG5ublISBQD9+vWDjY0Nfv/99zKPKSgoQFZWltHLGvmyR4rovnQO9oCPxgHlzUZSoGQ+Yudg439zavo4IiIiqn2sJpHS6/WYOnUqunfvjrCwMJOPS01NhZeXl9E2Ozs7eHh4IDU1tcxj5s+fD41GI738/f3vK/bqcmdoH4cBEVWFrY0C0UNDy9xnSHaih4aWKvxw93H3JkXVcRwRERHVPlaTSEVFRSEhIQHffPNNtV9r1qxZ0Gq10ispKanar1kVvtKivOyRIqqqyDAfLB/TvtR2b40DVoxtX+66TpFhPlgxtj28NQ41chwRERHVLlZR/nzy5MlSkQg/Pz+zjvX29kZ6errRtuLiYmRkZMDb27vMY1QqFVQqVZXjrSmNmUgRWcTdQ+kW/rsNfN2c0DnYo9KeocgwH/QP9cbhCxlIz86Hl9qhWo8jIiKi2kPWREoIgSlTpmDz5s3Yu3cvgoODzT5Ht27dkJmZiSNHjqBDhw4AgF9++QV6vR5dunSxdMg1ytet5C/a17ILUFCsg8rOtIpgRGTsys2SP0Y0clVheAfzhvLa2iiqVKq8qscRERFR7SBrIhUVFYV169Zh69atUKvV0pwmjUYDR8eS3pjU1FSkpqbi3LlzAIDjx49DrVYjICAAHh4eaNmyJSIjIzFx4kR88sknKCoqwuTJkzFq1KhaXbEPADyclXCwt0F+kR6p2nwENnCWOySiWinpZh4AwM/dSeZIiIiIqK6QdY7UihUroNVq0bt3b/j4+EivDRs2SG0++eQThIeHY+LEiQCAnj17Ijw8HNu2bZPafP311wgJCcHDDz+MQYMG4aGHHsKqVatq/H4sTaFQ3JkndZPD+4iqytAj5e/uKHMkREREVFfIPrSvMnPmzMGcOXMqbOPh4YF169ZZKCrr0tjNEf9cy+U8KaL7kJTBHikiIiKyrPvukcrKysKWLVtw6tQpS8RD92AJdKL7J/VIebBHioiIiCzD7ERqxIgR+PjjjwEAt27dQseOHTFixAi0adMG3333ncUDrO+4KC/R/eMcKSIiIrI0sxOpffv2oUePHgCAzZs3QwiBzMxMfPTRR3jrrbcsHmB9x7WkiO6PEEKaY+jPRIqIiIgsxOxESqvVwsOjZE2W2NhYDB8+HE5OThg8eDDOnj1r8QDrO0MJdPZIEVXNtZwCFBTrYaNAqUVyiYiIiKrK7ETK398fBw8eRG5uLmJjYxEREQEAuHnzJhwc+CXF0vzcSv6CfjXzlknFOYjIWFJGyR8hvF0doLSTtVApERER1SFmf6uYOnUqxowZAz8/P/j6+qJ3794ASob8tW7d2tLx1XuNNCooFEBBsR43cgvlDoeo1rlimB/lwWF9REREZDlmlz+fNGkSOnfujKSkJPTv3x82NiW5WJMmTThHqhqo7Gzh6aJCenYBkjNvoaGLSu6QiGoVQ8U+P64hRURERBZUpXWkOnbsiI4dOwIAdDodjh8/jgcffBDu7u4WDY5KNHZ3lBKpNn5ucodDVKsYeqRYaIKIiIgsqUpD+z7//HMAJUlUr1690L59e/j7+2Pv3r2Wjo9wd+U+riVFZC72SBEREVF1MDuR+vbbb9G2bVsAwPbt23HhwgWcPn0a06ZNw+uvv27xAOnOoryGEs5EZLqkjNs9UpwjRURERBZkdiJ1/fp1eHt7AwB++OEH/Pvf/8YDDzyAp556CsePH7d4gAT4algCnagq9HohrcHGHikiIiKyJLMTqUaNGuHkyZPQ6XSIjY1F//79AQB5eXmwtbW1eIAENL49tyNZy0SKyBxp2fko0gnY2ijg7crlGYiIiMhyzC42MWHCBIwYMQI+Pj5QKBTo168fAOD3339HSEiIxQMkLspLVFWG+VG+bg6ws+UaUkRERGQ5ZidSc+bMQVhYGJKSkvDvf/8bKlVJOW5bW1u8+uqrFg+Q7syRup5TiPwiHRzs2fNHZArD/CjDwtZEREREllKl8uePP/44ACA//04VuXHjxlkmIipF42gPZ6Utcgt1SM68hSaeLnKHRFQrGHqk/D04P4qIiIgsy+yxLjqdDm+++SYaN24MFxcX/PPPPwCAN954QyqLTpalUCikEujJLIFOZDLDGlJ+XEOKiIiILMzsROrtt9/G6tWr8d5770GpVErbw8LC8Nlnn1k0OLrjzlpSeTJHQlR7JGWwYh8RERFVD7MTqa+++gqrVq3CmDFjjKr0tW3bFqdPn7ZocHQHF+UlMt+VTK4hRURERNXD7ETq6tWraNasWanter0eRUVFFgmKSjP8RZ2V+4hMU6zTS0Nh2SNFRERElmZ2IhUaGor9+/eX2v7tt98iPDzcIkFRaSyBTmSe1Kx86PQC9rYKNFJzDSkiIiKyLLOr9s2ePRvjxo3D1atXodfrsWnTJiQmJuKrr77Cjh07qiNGAuCrMQztYyJFZApDxb7Gbo6wsVHIHA0RERHVNWb3SD3yyCPYvn07du/eDWdnZ8yePRunTp3C9u3b0b9//+qIkQA0vj00KSUzH3q9kDkaIutnWEOK86OIiIioOlRpHakePXpg165dlo6FKtDI1QE2CqBQp8f13AJ4cagSUYUMPVKcH0VERETVoUqJFAAUFhYiPT0der3eaHtAQMB9B0Wl2dvaoJGrA1K0+bh68xYTKaJKJHENKSIiIqpGZidSZ8+exVNPPYUDBw4YbRdCQKFQQKfTWSw4Mubr5ogUbT6SM/MRznyVqELskSIiIqLqZHYiNX78eNjZ2WHHjh3w8fGBQsFJ3DWlsZsjjly6ycp9RCa4KiVS7JEiIiIiyzM7kYqPj8eRI0cQEhJSHfFQBe4systEiqgiRTo9UrQlvyf+HuyRIiIiIsur0jpS169fr45YqBKNb68lxUSKqGIpmfnQC0BlZwNPF5Xc4RAREVEdZHYitWDBArz88svYu3cvbty4gaysLKMXVR9DCXQO7SOq2J1CE44cfkxERETVwuyhff369QMAPPzww0bbWWyi+hmG9jGRIqrYFVbsIyIiompmdiK1Z8+e6oiDTGBIpG7mFSGvsBhOyipXryeq05IyWLGPiIiIqpfZ38SDg4Ph7+9fariMEAJJSUkWC4xKc3Wwh9rBDtn5xUjOvIVmXmq5QyKySoYeKX8P9kgRERFR9TB7jlRwcDCuXbtWantGRgaCg4MtEhSVr7FUuS9f5kiIrBfXkCIiIqLqZnYiZZgLda+cnBw4ODhYJCgqH+dJEVXOUGzCn3OkiIiIqJqYPLRv+vTpAACFQoE33ngDTk53vqDodDr8/vvvaNeuncUDJGO+hhLoN5lIEZWloFiHtKwCAOyRIiIioupjciJ17NgxACU9UsePH4dSqZT2KZVKtG3bFjNmzLB8hGSksVtJAsseKaKyGf7I4KS0hYezspLWRERERFVjciJlqNY3YcIELFmyBK6urvd98fnz52PTpk04ffo0HB0d8eCDD2LBggVo0aKF1CY/Px//93//h2+++QYFBQUYMGAAli9fjkaNGkltyhpquH79eowaNeq+Y7Q2vlyUl6hCd8+P4hpSREREVF3MniMVExNjkSQKAOLi4hAVFYVDhw5h165dKCoqQkREBHJzc6U206ZNw/bt27Fx40bExcUhOTkZjz32WJlxpaSkSK9hw4ZZJEZrc6fYBBMporLcSaQ4P4qIiIiqj0k9Uo899hhWr14NV1fXMpOYu23atMnki8fGxhq9X716Nby8vHDkyBH07NkTWq0Wn3/+OdatW4e+ffsCKEmYWrZsiUOHDqFr167SsW5ubvD29jb52rVV49tzPlK1+dDpBWxt+Bd3orvdKTTB+VFERERUfUzqkdJoNNIQGY1GU+Hrfmi1WgCAh4cHAODIkSMoKipCv379pDYhISEICAjAwYMHjY6NiopCw4YN0blzZ3zxxRcQQpR7nYKCAmRlZRm9agsvtQNsbRQo1gtcyy6QOxwiq8MeKSIiIqoJJvVIxcTE4JdffkHPnj0RExNTLYHo9XpMnToV3bt3R1hYGAAgNTUVSqUSbm5uRm0bNWqE1NRU6f28efPQt29fODk54aeffsKkSZOQk5ODF198scxrzZ8/H3Pnzq2W+6hutjYKeLs64GrmLVzNvAVvDUvOE90tKcOwGC97pIiIiKj6mDxHqn///sjIyJDed+3aFVevXrVYIFFRUUhISMA333xj9rFvvPEGunfvjvDwcLzyyit4+eWX8f7775fbftasWdBqtdIrKSnpfkKvcZwnRVQ+9kgRERFRTTA5kbp3qNyJEydQUGCZoWWTJ0/Gjh07sGfPHvj5+Unbvb29UVhYiMzMTKP2aWlpFc6H6tKlC65cuVJufCqVCq6urkav2sQwT4ol0ImM5RfpcD2Ha0gRERFR9TO7ap8lCSEwefJkbN68Gb/88guCg4ON9nfo0AH29vb4+eefpW2JiYm4fPkyunXrVu554+Pj4e7uDpVKVW2xy8lQAp2JFJGxK7cLTahVdtA42sscDREREdVlJq8jpVAojNZkufd9VURFRWHdunXYunUr1Gq1NO9Jo9HA0dERGo0GTz/9NKZPnw4PDw+4urpiypQp6Natm1Sxb/v27UhLS0PXrl3h4OCAXbt24Z133qnTiwP7Gob23WQiRXS3pNu/E425hhQRERFVM5MTKSEEHn74YdjZlRySl5eHoUOHQqlUGrU7evSoyRdfsWIFAKB3795G22NiYjB+/HgAwKJFi2BjY4Phw4cbLchrYG9vj2XLlmHatGkQQqBZs2b48MMPMXHiRJPjqG04R4qobFekQhOcH0VERETVy+REKjo62uj9I488ct8Xr6hEuYGDgwOWLVuGZcuWlbk/MjISkZGR9x1LbWJIpDi0j8jYnUITnB9FRERE1avKiRTJx+d2IpWVX4zs/CKoHTgXhAi4ezFe9kgRERFR9ZK12ARVjctdE+mTM/NljobIerBHioiIiGoKE6laisP7iErjGlJERERUU5hI1VK+LDhBZCS3oBgZuYUAAD8P9kgRERFR9WIiVUs1vr2WFBMpohKG3iiNoz1cOW+QiIiIqpnZidRXX32FgoKCUtsLCwvx1VdfWSQoqlxjdw7tI7pbklT6nL1RREREVP3MTqQmTJgArVZbant2djYmTJhgkaCocr6cI0Vk5Mrtin1+bpwfRURERNXP7ERKCAGFQlFq+5UrV6DRaCwSFFXuTiLFqn1EwJ2hfeyRIiIioppg8jpS4eHhUCgUUCgUePjhh2Fnd+dQnU6HCxcu1LuFceVkqNqXmpWPYp0edrac7kb1m2ENKVbsIyIioppgciI1bNgwAEB8fDwGDBgAFxcXaZ9SqURQUBCGDx9u8QCpbJ4uKtjbKlCkE0jLLpASK6L6imtIERERUU0yOZGKjo4GAAQFBWHUqFFQqVTVFhRVzsZGAR+NIy5n5CE58xYTKar37hSbYI8UERERVT+zx4P17dsX165dk94fPnwYU6dOxapVqywaGFXO93YJdBacoPpOe6sIWfnFAMA/KhAREVGNMDuReuKJJ7Bnzx4AQGpqKvr164fDhw/j9ddfx7x58yweIJWv8e3qZIYhTUT1laFiXwNnJZxVJne0ExEREVWZ2YlUQkICOnfuDAD43//+h9atW+PAgQP4+uuvsXr1akvHRxVozB4pIgCcH0VEREQ1z+xEqqioSJoftXv3bvzrX/8CAISEhCAlJcWy0VGFuJYUUQkpkeL8KCIiIqohZidSrVq1wieffIL9+/dj165dUsnz5ORkNGjQwOIBUvkMidRVJlJUzxkKTbBHioiIiGqK2YnUggULsHLlSvTu3RujR49G27ZtAQDbtm2ThvxRzWh8+0vj1Zu3IISQORoi+dwZ2sceKSIiIqoZZs/K7t27N65fv46srCy4u7tL25999lk4OfFLTE3y1ZQkUrmFOmTlF0PjaC9zRETyMBSb8GePFBEREdUQs3ukAEAIgSNHjmDlypXIzs4GULIoLxOpmuWotIWHsxIA50lR/SWEYI8UERER1Tize6QuXbqEyMhIXL58GQUFBejfvz/UajUWLFiAgoICfPLJJ9URJ5WjsZsjMnILcfXmLbT0cZU7HKIap71VhJyCkjWkOEeKiIiIaorZPVIvvfQSOnbsiJs3b8LR8c6XlkcffRQ///yzRYOjykmL8mrZI0X1U1JGybPvqVbBwd5W5miIiIiovjC7R2r//v04cOAAlEql0fagoCBcvXrVYoGRaVi5j+o7w/wo9kYRERFRTTK7R0qv10On05XafuXKFajVaosERaZr7Hanch9RfZQkFZrg/CgiIiKqOWYnUhEREVi8eLH0XqFQICcnB9HR0Rg0aJAlYyMTNOaivFTP3Sk0wR4pIiIiqjlmD+1buHAhBgwYgNDQUOTn5+OJJ57A2bNn0bBhQ6xfv746YqQK+EqJVL7MkRDJw5BI+XuwR4qIiIhqjtmJlJ+fH/766y9s2LABf/31F3JycvD0009jzJgxRsUnqGYYEqm07HwU6fSwt61SRXuiWispg3OkiIiIqOaZnUgBgJ2dHcaMGYMxY8ZYOh4yU0MXJZR2Nigs1iNVm8+/ylO9cvcaUpwjRURERDXJ7O6LGzduSP+dlJSE2bNnY+bMmdi3b59FAyPTKBSKOwUnOE+K6pkbuYW4VaSDQgH43F4KgIiIiKgmmJxIHT9+HEFBQfDy8kJISAji4+PRqVMnLFq0CKtWrULfvn2xZcuWagyVyiOtJcVEiuoZQ29UI7UDVHZcQ4qIiIhqjsmJ1Msvv4zWrVtj37596N27N4YMGYLBgwdDq9Xi5s2beO655/Duu+9WZ6xUDl8NS6BT/WSYH+XvwflRREREVLNMniP1xx9/4JdffkGbNm3Qtm1brFq1CpMmTYKNTUkuNmXKFHTt2rXaAqXyNb49yT5Zy0SK6pc7pc85P4qIiIhqlsk9UhkZGfD29gYAuLi4wNnZGe7u7tJ+d3d3ZGdnWz5CqpSvNEeKJdCpfrkiLcbLHikiIiKqWWYVm1AoFBW+J3lwUV6qr5LYI0VEREQyMav8+fjx46FSqQAA+fn5eP755+Hs7AwAKCgosHx0ZBJv15JiE5du5OLg+evoHNwAtjZMcqnuM/RI+XGOFBEREdUwkxOpcePGGb0fO3ZsqTZPPvnk/UdEZolNSMGcbScAAEU6gdGf/g4fjQOih4YiMsxH5uiIqo9ezzWkiIiISD4mJ1IxMTHVGQdVQWxCCl5YexTinu2p2ny8sPYoVoxtz2SK6qzrOQUoLNbDRgF4a7iGFBEREdUssxfktaT58+ejU6dOUKvV8PLywrBhw5CYmGjUJj8/H1FRUWjQoAFcXFwwfPhwpKWlGbW5fPkyBg8eDCcnJ3h5eWHmzJkoLi6uyVupcTq9wNztJ0slUQCkbXO3n4ROX1YLotrPMD/KR+MIe1tZ/ykjIiKiekjWbx9xcXGIiorCoUOHsGvXLhQVFSEiIgK5ublSm2nTpmH79u3YuHEj4uLikJycjMcee0zar9PpMHjwYBQWFuLAgQP48ssvsXr1asyePVuOW6oxhy9kIEVbfpU+ASBFm4/DFzJqLiiiGiTNj2LFPiIiIpKBWcUmLC02Ntbo/erVq+Hl5YUjR46gZ8+e0Gq1+Pzzz7Fu3Tr07dsXQMkQw5YtW+LQoUPo2rUrfvrpJ5w8eRK7d+9Go0aN0K5dO7z55pt45ZVXMGfOHCiVSjlurdqlZ5tW6tzUdkS1jTQ/yoPzo4iIiKjmWdV4GK1WCwDw8PAAABw5cgRFRUXo16+f1CYkJAQBAQE4ePAgAODgwYNo3bo1GjVqJLUZMGAAsrKycOLEiTKvU1BQgKysLKNXbeOlNm1OiKntiGqbpAz2SBEREZF8rCaR0uv1mDp1Krp3746wsDAAQGpqKpRKJdzc3IzaNmrUCKmpqVKbu5Mow37DvrLMnz8fGo1Gevn7+1v4bqpf52AP+GgcUF6RcwUAH40DOgd71GRYRDXmCteQIiIiIhlZTSIVFRWFhIQEfPPNN9V+rVmzZkGr1UqvpKSkar+mpdnaKBA9NBQAyk2mooeGcj0pqrMMc6T82SNFREREMrCKRGry5MnYsWMH9uzZAz8/P2m7t7c3CgsLkZmZadQ+LS0N3t7eUpt7q/gZ3hva3EulUsHV1dXoVRtFhvlgxdj2pUo/O6tsWfqc6jSdXuBq5u0eKc6RIiIiIhnImkgJITB58mRs3rwZv/zyC4KDg432d+jQAfb29vj555+lbYmJibh8+TK6desGAOjWrRuOHz+O9PR0qc2uXbvg6uqK0NDQmrkRGUWG+eDXV/pi/cSuGNMlAADQ0lvNJIrqtPTsfBTpBOxsFPB25TxAIiIiqnmyVu2LiorCunXrsHXrVqjVamlOk0ajgaOjIzQaDZ5++mlMnz4dHh4ecHV1xZQpU9CtWzd07doVABAREYHQ0FD85z//wXvvvYfU1FT897//RVRUFFQqlZy3V2NsbRTo1rQBvFxV+Pr3yzh+NQtFOj3X1qE6KymjpDfK182Rw1eJiIhIFrJ+016xYgW0Wi169+4NHx8f6bVhwwapzaJFizBkyBAMHz4cPXv2hLe3NzZt2iTtt7W1xY4dO2Bra4tu3bph7NixePLJJzFv3jw5bklWwQ2coXG0R0GxHqdTsuUOh6jaSPOjPDg/ioiIiOQha4+UEKLSNg4ODli2bBmWLVtWbpvAwED88MMPlgytVrKxUaCdvxvizlzDsaSbaO2nkTskomph6JHyc+P8KCIiIpIHx37VMeEBbgCAY5czZY2DqDoZeqS4hhQRERHJhYlUHRMe4A4AOHb5psyREFUfwxpS/qzYR0RERDJhIlXHtPN3AwBcvJGHjNxCeYMhqiZJ7JEiIiIimTGRqmM0jvZo5uUCAIhPYq8U1T3FOj1StPkA2CNFRERE8mEiVQeF3+6V4jwpqm46vcDB8zewNf4qDp6/AZ2+8gIy93vcD8dToNOXrCHl4aS8n/CJiIiIqkzWqn1UPcID3LHxyBUmUlStYhNSMHf7Sal3CAB8NA6IHhpa4YLQljquWC/Q8/09lR5HREREVB3YI1UHGSr3xSdlmvyXfiJzxCak4IW1R42SIQBI1ebjhbVHEZuQYhXHEREREVUXJlJ10AON1HBS2iKnoBjnr+XIHQ7VMTq9wNztJ1FWim7YNnf7yVJJfE0fR0RERFSdOLSvDrK1UaCtnxsO/nMDxy7fxAON1HKHRHXI4QsZpXqG7iYApGjz8czqP+Dl6iBtT8/Kr9bjDl/IQLemDcy5FSIiIqIqYyJVR4UHGBKpTIzsFCB3OFSHpGeXn9Tcbc+Za1U6f1WPMzUuIiIiIktgIlVH3VmYN1PeQKjO8VI7VN4IwMhO/gi4qzz55Yw8bPgjqdqOMzUuIiIiIktgIlVHGRbmPZOejez8Iqgd7OUNiOqMzsEe8NE4IFWbX+a8JQUAb40D3nm0NWxtFNJ2nV5g35lr1XZc52CP+7sxIiIiIjOw2EQd5alWwd/DEUIAf1/Ryh0O1SG2NgpEDw0tc58h/YkeGmqUDN17nKIGjiMiIiKqTkyk6rBwf8PwvpsyR0J1TWSYD5aMaldqu7fGASvGti93XafIMB+sGNse3hqHGjmOiIiIqLpwaF8dFh7ghm1/JeMo50lRNQj1dQUAONjbYMFjbeDlWjK8rrKeocgwH/QP9cbhCxlIz86Hl7p6jyMiIiKqDkyk6rA7BSduQggBhYJfOMlykjJuAQCCGjjjkfDGZh1ra6OoUqnyqh5HREREZGkc2leHhfq4Qmlng5t5Rbh0I0/ucKiOSbpZ8kz5uTtV0pKIiIio7mEiVYcp7WwQdnv41bEkzpMiy0rKKEmk/D0cZY6EiIiIqOYxkarjuJ4UVRfD0D5/9kgRERFRPcREqo4LD3ADwESKLM8wtM/fg4kUERER1T9MpOo4Q4/UqZQs3CrUyRwN1SUc2kdERET1GROpOs5X4wAvtQrFeoGEZC7MS5ahvVWErPxiABzaR0RERPUTE6k6TqFQ3DW8jwUnyDIMvVEezko4q7iKAhEREdU/TKTqARacIEu7ctNQaILD+oiIiKh+YiJVD7RnIkUWdsWwhhQLTRAREVE9xUSqHmjdWANbGwVSs/KRor0ldzhUB0iFJjg/ioiIiOopJlL1gKPSFi191ADYK0WWkWQY2seKfURERFRPMZGqJ8L9DcP7WHCC7h97pIiIiKi+YyJVT3BhXrIUIcSdYhOcI0VERET1FBOpesJQue/4VS0Ki/UyR0O12fWcQtwq0kGhAHzdHOQOh4iIiEgWTKTqiaAGTnBzskdBsR6nU7PkDodqsaTbFfsaqR2gsrOVORoiIiIieTCRqicUCgXC/d0AAEcvcZ4UVZ00P4qFJoiIiKgeYyJVj0gL8yZlyhsI1Wp3FuPl/CgiIiKqv5hI1SMsOEGWYOiR4mK8REREVJ8xkapH2vq7QaEALmfk4XpOgdzhUC1lmCPl786hfURERFR/MZGqR1wd7NHM0wUAEM9eKaqipAyWPiciIiKSNZHat28fhg4dCl9fXygUCmzZssVof1paGsaPHw9fX184OTkhMjISZ8+eNWrTu3dvKBQKo9fzzz9fg3dRu0jD+5JYcILMp9MLJGcykSIiIiKSNZHKzc1F27ZtsWzZslL7hBAYNmwY/vnnH2zduhXHjh1DYGAg+vXrh9zcXKO2EydOREpKivR67733auoWah2p4AR7pKgKUrPyUawXsLdVwNuVa0gRERFR/WUn58UHDhyIgQMHlrnv7NmzOHToEBISEtCqVSsAwIoVK+Dt7Y3169fjmWeekdo6OTnB29u7RmKu7Qw9Un8lZUKnF7C1UcgbENUqhkITvm6OfHaIiIioXrPaOVIFBSXFEBwc7vzV28bGBiqVCr/++qtR26+//hoNGzZEWFgYZs2ahby8vErPnZWVZfSqL5p7qeGstEVuoQ5n07PlDodqGWkNKZY+JyIionrOahOpkJAQBAQEYNasWbh58yYKCwuxYMECXLlyBSkpKVK7J554AmvXrsWePXswa9YsrFmzBmPHjq3w3PPnz4dGo5Fe/v7+1X07VsPWRoG2txfm5fA+MleSYQ0pLsZLRERE9ZzVJlL29vbYtGkTzpw5Aw8PDzg5OWHPnj0YOHAgbGzuhP3ss89iwIABaN26NcaMGYOvvvoKmzdvxvnz58s996xZs6DVaqVXUlJSTdyS1biznhQLTpB5rhjWkGKPFBEREdVzss6RqkyHDh0QHx8PrVaLwsJCeHp6okuXLujYsWO5x3Tp0gUAcO7cOTRt2rTMNiqVCiqVqlpirg3C/VlwgqpGWkOKFfuIiIionrPaHqm7aTQaeHp64uzZs/jzzz/xyCOPlNs2Pj4eAODj41ND0dU+7W73SJ1Nz4H2VpG8wVCtIq0hxcV4iYiIqJ6TtUcqJycH586dk95fuHAB8fHx8PDwQEBAADZu3AhPT08EBATg+PHjeOmllzBs2DBEREQAAM6fP49169Zh0KBBaNCgAf7++29MmzYNPXv2RJs2beS6LavX0EWFAA8nXM7Iw99XMtGjuafcIVEtUFCsQ1p2PgAO7SMiIiKSNZH6888/0adPH+n99OnTAQDjxo3D6tWrkZKSgunTpyMtLQ0+Pj548skn8cYbb0jtlUoldu/ejcWLFyM3Nxf+/v4YPnw4/vvf/9b4vdQ24QFuuJyRh2OXmUiRaa7evAUhAEd7WzR0UcodDhEREZGsZE2kevfuDSFEuftffPFFvPjii+Xu9/f3R1xcXHWEVue1D3DH1vhkFpwgkxkq9vm5O0Kh4BpSREREVL/VijlSZHlS5b6kzAqTWSIDaQ0pFpogIiIiYiJVX4V4u0JlZ4PMvCJcuJ4rdzhUC1y5yUITRERERAZMpOoppZ0NWjfWAGAZdDINS58TERER3cFEqh67M7yP86SoclyMl4iIiOgOJlL1WHhAycK8v569jq3xV3Hw/A3o9JwvRWUzFJvw9+DQPiIiIiJZq/aRvLS3CgEAF2/k4aVv4gEAPhoHRA8NRWQYFzSmO3ILipGRW/K8cGgfEREREXuk6q3YhBS8timh1PZUbT5eWHsUsQkpMkRF1sowP0rjaA9XB3uZoyEiIiKSHxOpekinF5i7/STKGsRn2DZ3+0kO8yNJUgaH9RERERHdjYlUPXT4QgZStPnl7hcAUrT5OHwho+aCIqsmrSHFQhNEREREAJhI1Uvp2eUnUVVpR3UfS58TERERGWMiVQ95qR0s2o7qPsPQPj8uxktEREQEgIlUvdQ52AM+GgcoytmvQEn1vs7BHjUZFlmxKzc5tI+IiIjobkyk6iFbGwWih4YCQKlkyvA+emgobG3KS7WoPhFC3JkjxWITRERERACYSNVbkWE+WDG2Pbw1xsP3vDUOWDG2PdeRIklmXhFyC3UAAD/2SBEREREB4IK89VpkmA/6h3rj+7+T8eI38bC1AXZP7wVnFR8LusNQaMJTrYKDva3M0RARERFZB/ZI1XO2NgoMbeuLhi5K6PTA6dQsuUMiKyOtIcVCE0REREQSJlIEhUKB8AB3AMDRS5nyBkNWh6XPiYiIiEpjIkUAgPAANwDAsaSb8gZCVoeL8RIRERGVxkSKAADt2SNF5Ui6eXtoHyv2EREREUmYSBEAoI2fBrY2CqRm5SNFe0vucMiKXGGPFBEREVEpTKQIAOCktEOItxoAe6XoDr1e4IrUI8VEioiIiMiAiRRJpOF9lzlPikqkZxegUKeHrY0CPvesOUZERERUnzGRIolUcIKJFN1mqNjno3GAnS3/uSAiIiIy4Dcjkhh6pBKuZqGgWCdzNGQNWLGPiIiIqGxMpEgS2MAJHs5KFOr0OJnMhXnpzmK8flyMl4iIiMgIEymSKBQKhPu7AQCOXs6UNRayDle4GC8RERFRmZhIkZH2gSXD+zhPioA7c6S4hhQRERGRMSZSZMTQI3WMPVKEO0P7OEeKiIiIyBgTKTLS1t8NNgrgauYtpGXlyx0OyahIp5cWZ+bQPiIiIiJjTKTIiLPKDi28XQFweF99l5KZD70AlHY28HRRyR0OERERkVVhIkWlGNaTYsGJ+s0wP8rP3RE2NgqZoyEiIiKyLkykqBTDelLskarfuIYUERERUfmYSFEphh6pv69oUVislzcYkg0r9hERERGVj4kUldKkoTPcnOxRUKzHqRQuzFtfsWIfERERUfmYSFEpdy/My+F99VcSF+MlIiIiKhcTKSpT+O15Uiw4UX+xR4qIiIiofEykqExSwYkk9kjVR7cKdbieUwCAc6SIiIiIyiJrIrVv3z4MHToUvr6+UCgU2LJli9H+tLQ0jB8/Hr6+vnByckJkZCTOnj1r1CY/Px9RUVFo0KABXFxcMHz4cKSlpdXgXdRNbf01UChKeiWuZRfIHQ7VsKuZJcP61Co7aBztZY6GiIiIyPrImkjl5uaibdu2WLZsWal9QggMGzYM//zzD7Zu3Ypjx44hMDAQ/fr1Q25urtRu2rRp2L59OzZu3Ii4uDgkJyfjscceq8nbqJPUDvZ4wEsNgPOk6iPDsL7G7o5QKLiGFBEREdG97OS8+MCBAzFw4MAy9509exaHDh1CQkICWrVqBQBYsWIFvL29sX79ejzzzDPQarX4/PPPsW7dOvTt2xcAEBMTg5YtW+LQoUPo2rVrmecuKChAQcGdXpasLFamK0v7QDckpmXj6OVMRLTyljscqkEsNEFERERUMaudI2VIdBwcHKRtNjY2UKlU+PXXXwEAR44cQVFREfr16ye1CQkJQUBAAA4ePFjuuefPnw+NRiO9/P39q+kuardwf0PBCfZI1TdcjJeIiIioYlabSBkSolmzZuHmzZsoLCzEggULcOXKFaSkpAAAUlNToVQq4ebmZnRso0aNkJqaWu65Z82aBa1WK72SkpKq81ZqrfaBbgCAv69koljHhXnrE6liHwtNEBEREZXJahMpe3t7bNq0CWfOnIGHhwecnJywZ88eDBw4EDY29xe2SqWCq6ur0YtKa9LQBa4Odsgv0uN0arbc4VANkob2sUeKiIiIqExWm0gBQIcOHRAfH4/MzEykpKQgNjYWN27cQJMmTQAA3t7eKCwsRGZmptFxaWlp8PbmnJ77ZWOjQDtDGXQO76tXpKF9nCNFREREVCarTqQMNBoNPD09cfbsWfz555945JFHAJQkWvb29vj555+ltomJibh8+TK6desmV7h1Sri/GwAuzFufaG8VISu/GADg586hfURERERlkbVqX05ODs6dOye9v3DhAuLj4+Hh4YGAgABs3LgRnp6eCAgIwPHjx/HSSy9h2LBhiIiIAFCSYD399NOYPn06PDw84OrqiilTpqBbt27lVuwj87QPZMGJ+sbQG9XAWQlnlaz/RBARERFZLVm/Jf3555/o06eP9H769OkAgHHjxmH16tVISUnB9OnTkZaWBh8fHzz55JN44403jM6xaNEi2NjYYPjw4SgoKMCAAQOwfPnyGr2Puqzd7R6pSzfycCOnAA1cVPIGRNXuyu35UX4c1kdERERULoUQQsgdhNyysrKg0Wig1WpZeKIM/T6Mw7n0HHz2ZEf0C20kdzhUzT7d9w/e/uEUhrTxwcdPtJc7HCIiIqIaZWpuUCvmSJG82ge4AQCOJXF4X33AxXiJiIiIKsdEiioVfrty39FLmfIGQjXiys3ba0ix9DkRERFRuZhIUaXa306k/rqSCZ2+3o8ErfPulD5nxT4iIiKi8jCRoko193KBWmWHvEIdErkwb50mhJB6pPzYI0VERERULiZSVCkbGwXaSutJcZ5UXXY9pxC3inRQKABfNwe5wyEiIiKyWkykyCRSwQkuzFunGQpNeLs6QGVnK3M0RERERNaLiRSZxFBw4hh7pOo0aX4Uh/URERERVYiJFJkk/HaP1D/Xc3Ezt1DeYKjaSPOjWGiCiIiIqEJMpMgkbk5KNPF0BgDEJ2XKGwxVG/ZIEREREZmGiRSZLNz/9npSHN5XZ3ExXiIiIiLTMJEik7UPdAPAghN1WVKGYTFeDu0jIiIiqggTKTKZoUcqPokL89ZFOr1AcubtRIo9UkREREQVYiJFJmvhrYaz0hY5BcU4l54jdzhkYSnaWyjWC9jbKtDIlWtIEREREVWEiRSZzJYL89Zphop9jd0cYWujkDkaIiIiIuvGRIrMEi4tzMtEqq6RKvZxWB8RERFRpZhIkVnaBxgq92XKGwhZXJJhDSmWPiciIiKqFBMpMku720P7zqXnQJtXJG8wZFFXpB4pVuwjIiIiqgwTKTJLAxcVghqU9FjEX8mUNxiyKMMaUuyRIiIiIqocEykymzS87xLnSdUlXEOKiIiIyHRMpMhsUsGJpExZ4yDLKSjWIS07HwCLTRARERGZgokUmS38do/Uscs3oefCvHXC1Zu3IATgaG+LBs5KucMhIiIisnp2cgdAtU+ItxoOdjbIzi/Gp/v/QRs/N3QO9jB57SGdXuDwhQykZ+fDS+1g8rE1fVx9ivWnk2kAgAYu9tALwJbLSBERERFViIkUmW33qTToRUlP1PydpwEAPhoHRA8NRWSYT4XHxiakYO72k0jR5kvbTDm2po+rr7FeuZmPhxb8YtI1iYiIiOozhRCi3o/NysrKgkajgVarhaurq9zhWLXYhBS8sPYo7n1oDB0YK8a2L/cLeFWPrenjGGvl1yQiIiKqq0zNDThHikym0wvM3X6y1BdvANK2udtPQlfGvKmqHlvTxzHWyq9JREREROyRAsAeKVMdPH8Doz89VGk7f3dHOKuMR43mFhQj6eYts4+t6eMYq7H1E7uiW9MGlbYjIiIiqitMzQ04R4pMlp6dX3kjwKQv6JY+tqaPk+OacsRq6s+ciIiIqL5hIkUm81I7mNTutUEtEepjnL2fTMnCOz+cMvvYmj6OsRoz9WdOREREVN8wkSKTdQ72gI/GAana/DLn1igAeGsc8PRDwaXKbndr2gAxv10w+9iaPo6xGh/XOdijjL1ERERExGITZDJbGwWih4YCuFPZzcDwPnpoaJlrF1X12Jo+jrFWfk0iIiIiYiJFZooM88GKse3hrTEe8uWtcai0XHZVj63p4xhr5dckIiIiqu9YtQ+s2lcVOr3A4QsZSM/Oh5e6ZAiYqb0XVT22po9jrERERET1j6m5ARMpMJEiIiIiIqISXJCXiIiIiIiomjCRIiIiIiIiMhMTKSIiIiIiIjPJmkjt27cPQ4cOha+vLxQKBbZs2WK0PycnB5MnT4afnx8cHR0RGhqKTz75xKhN7969oVAojF7PP/98Dd4FERERERHVN7IuyJubm4u2bdviqaeewmOPPVZq//Tp0/HLL79g7dq1CAoKwk8//YRJkybB19cX//rXv6R2EydOxLx586T3Tk5ONRI/ERERERHVT7ImUgMHDsTAgQPL3X/gwAGMGzcOvXv3BgA8++yzWLlyJQ4fPmyUSDk5OcHb27u6wyUiIiIiIgJg5XOkHnzwQWzbtg1Xr16FEAJ79uzBmTNnEBERYdTu66+/RsOGDREWFoZZs2YhLy+vwvMWFBQgKyvL6EVERERERGQqWXukKrN06VI8++yz8PPzg52dHWxsbPDpp5+iZ8+eUpsnnngCgYGB8PX1xd9//41XXnkFiYmJ2LRpU7nnnT9/PubOnVsTt0BERERERHWQ1SdShw4dwrZt2xAYGIh9+/YhKioKvr6+6NevH4CS4X4GrVu3ho+PDx5++GGcP38eTZs2LfO8s2bNwvTp06X3WVlZ8Pf3r96bISIiIiKiOsNqE6lbt27htddew+bNmzF48GAAQJs2bRAfH48PPvhASqTu1aVLFwDAuXPnyk2kVCoVVCpV9QRORERERER1ntUmUkVFRSgqKoKNjfE0LltbW+j1+nKPi4+PBwD4+PiYfC0hBABwrhQRERERUT1nyAkMOUJ5ZE2kcnJycO7cOen9hQsXEB8fDw8PDwQEBKBXr16YOXMmHB0dERgYiLi4OHz11Vf48MMPAQDnz5/HunXrMGjQIDRo0AB///03pk2bhp49e6JNmzYmx5GdnQ0AHN5HREREREQASnIEjUZT7n6FqCzVqkZ79+5Fnz59Sm0fN24cVq9ejdTUVMyaNQs//fQTMjIyEBgYiGeffRbTpk2DQqFAUlISxo4di4SEBOTm5sLf3x+PPvoo/vvf/8LV1dXkOPR6PZKTk6FWq6FQKCxyb4Z5V0lJSWbFQsRnh+4Hnx+6H3x+6H7w+aH7YU3PjxAC2dnZ8PX1LTU67m6yJlJ1WVZWFjQaDbRarewPA9UufHbofvD5ofvB54fuB58fuh+18fmx6nWkiIiIiIiIrBETKSIiIiIiIjMxkaomKpUK0dHRLLNOZuOzQ/eDzw/dDz4/dD/4/ND9qI3PD+dIERERERERmYk9UkRERERERGZiIkVERERERGQmJlJERERERERmYiJFRERERERkJiZS1WDZsmUICgqCg4MDunTpgsOHD8sdElmhffv2YejQofD19YVCocCWLVuM9gshMHv2bPj4+MDR0RH9+vXD2bNn5QmWrMr8+fPRqVMnqNVqeHl5YdiwYUhMTDRqk5+fj6ioKDRo0AAuLi4YPnw40tLSZIqYrMmKFSvQpk0buLq6wtXVFd26dcPOnTul/Xx2yBzvvvsuFAoFpk6dKm3jM0TlmTNnDhQKhdErJCRE2l/bnh0mUha2YcMGTJ8+HdHR0Th69Cjatm2LAQMGID09Xe7QyMrk5uaibdu2WLZsWZn733vvPXz00Uf45JNP8Pvvv8PZ2RkDBgxAfn5+DUdK1iYuLg5RUVE4dOgQdu3ahaKiIkRERCA3N1dqM23aNGzfvh0bN25EXFwckpOT8dhjj8kYNVkLPz8/vPvuuzhy5Aj+/PNP9O3bF4888ghOnDgBgM8Ome6PP/7AypUr0aZNG6PtfIaoIq1atUJKSor0+vXXX6V9te7ZEWRRnTt3FlFRUdJ7nU4nfH19xfz582WMiqwdALF582bpvV6vF97e3uL999+XtmVmZgqVSiXWr18vQ4RkzdLT0wUAERcXJ4QoeVbs7e3Fxo0bpTanTp0SAMTBgwflCpOsmLu7u/jss8/47JDJsrOzRfPmzcWuXbtEr169xEsvvSSE4L8/VLHo6GjRtm3bMvfVxmeHPVIWVFhYiCNHjqBfv37SNhsbG/Tr1w8HDx6UMTKqbS5cuIDU1FSjZ0mj0aBLly58lqgUrVYLAPDw8AAAHDlyBEVFRUbPT0hICAICAvj8kBGdTodvvvkGubm56NatG58dMllUVBQGDx5s9KwA/PeHKnf27Fn4+vqiSZMmGDNmDC5fvgygdj47dnIHUJdcv34dOp0OjRo1MtreqFEjnD59WqaoqDZKTU0FgDKfJcM+IgDQ6/WYOnUqunfvjrCwMAAlz49SqYSbm5tRWz4/ZHD8+HF069YN+fn5cHFxwebNmxEaGor4+Hg+O1Spb775BkePHsUff/xRah///aGKdOnSBatXr0aLFi2QkpKCuXPnokePHkhISKiVzw4TKSKiWiwqKgoJCQlGY8yJKtOiRQvEx8dDq9Xi22+/xbhx4xAXFyd3WFQLJCUl4aWXXsKuXbvg4OAgdzhUywwcOFD67zZt2qBLly4IDAzE//73Pzg6OsoYWdVwaJ8FNWzYELa2tqWqi6SlpcHb21umqKg2MjwvfJaoIpMnT8aOHTuwZ88e+Pn5Sdu9vb1RWFiIzMxMo/Z8fshAqVSiWbNm6NChA+bPn4+2bdtiyZIlfHaoUkeOHEF6ejrat28POzs72NnZIS4uDh999BHs7OzQqFEjPkNkMjc3NzzwwAM4d+5crfz3h4mUBSmVSnTo0AE///yztE2v1+Pnn39Gt27dZIyMapvg4GB4e3sbPUtZWVn4/fff+SwRhBCYPHkyNm/ejF9++QXBwcFG+zt06AB7e3uj5ycxMRGXL1/m80Nl0uv1KCgo4LNDlXr44Ydx/PhxxMfHS6+OHTtizJgx0n/zGSJT5eTk4Pz58/Dx8amV//5waJ+FTZ8+HePGjUPHjh3RuXNnLF68GLm5uZgwYYLcoZGVycnJwblz56T3Fy5cQHx8PDw8PBAQEICpU6firbfeQvPmzREcHIw33ngDvr6+GDZsmHxBk1WIiorCunXrsHXrVqjVamnsuEajgaOjIzQaDZ5++mlMnz4dHh4ecHV1xZQpU9CtWzd07dpV5uhJbrNmzcLAgQMREBCA7OxsrFu3Dnv37sWPP/7IZ4cqpVarpfmYBs7OzmjQoIG0nc8QlWfGjBkYOnQoAgMDkZycjOjoaNja2mL06NG1898fucsG1kVLly4VAQEBQqlUis6dO4tDhw7JHRJZoT179ggApV7jxo0TQpSUQH/jjTdEo0aNhEqlEg8//LBITEyUN2iyCmU9NwBETEyM1ObWrVti0qRJwt3dXTg5OYlHH31UpKSkyBc0WY2nnnpKBAYGCqVSKTw9PcXDDz8sfvrpJ2k/nx0y193lz4XgM0TlGzlypPDx8RFKpVI0btxYjBw5Upw7d07aX9ueHYUQQsiUwxEREREREdVKnCNFRERERERkJiZSREREREREZmIiRUREREREZCYmUkRERERERGZiIkVERERERGQmJlJERERERERmYiJFRERERERkJiZSREREREREZmIiRUREZGGrV6+Gm5ub3GEQEVE1YiJFRESySU1NxUsvvYRmzZrBwcEBjRo1Qvfu3bFixQrk5eXJHZ5JgoKCsHjxYqNtI0eOxJkzZ+QJiIiIaoSd3AEQEVH99M8//6B79+5wc3PDO++8g9atW0OlUuH48eNYtWoVGjdujH/961+yxCaEgE6ng51d1f436ejoCEdHRwtHRURE1oQ9UkREJItJkybBzs4Of/75J0aMGIGWLVuiSZMmeOSRR/D9999j6NChAIDMzEw888wz8PT0hKurK/r27Yu//vpLOs+cOXPQrl07rFmzBkFBQdBoNBg1ahSys7OlNnq9HvPnz0dwcDAcHR3Rtm1bfPvtt9L+vXv3QqFQYOfOnejQoQNUKhV+/fVXnD9/Ho888ggaNWoEFxcXdOrUCbt375aO6927Ny5duoRp06ZBoVBAoVAAKHto34oVK9C0aVMolUq0aNECa9asMdqvUCjw2Wef4dFHH4WTkxOaN2+Obdu2WezzJiIiy2IiRURENe7GjRv46aefEBUVBWdn5zLbGJKSf//730hPT8fOnTtx5MgRtG/fHg8//DAyMjKktufPn8eWLVuwY8cO7NixA3FxcXj33Xel/fPnz8dXX32FTz75BCdOnMC0adMwduxYxMXFGV3z1VdfxbvvvotTp06hTZs2yMnJwaBBg/Dzzz/j2LFjiIyMxNChQ3H58mUAwKZNm+Dn54d58+YhJSUFKSkpZd7L5s2b8dJLL+H//u//kJCQgOeeew4TJkzAnj17jNrNnTsXI0aMwN9//41BgwZhzJgxRvdJRERWRBAREdWwQ4cOCQBi06ZNRtsbNGggnJ2dhbOzs3j55ZfF/v37haurq8jPzzdq17RpU7Fy5UohhBDR0dHCyclJZGVlSftnzpwpunTpIoQQIj8/Xzg5OYkDBw4YnePpp58Wo0ePFkIIsWfPHgFAbNmypdLYW7VqJZYuXSq9DwwMFIsWLTJqExMTIzQajfT+wQcfFBMnTjRq8+9//1sMGjRIeg9A/Pe//5Xe5+TkCABi586dlcZEREQ1j3OkiIjIahw+fBh6vR5jxoxBQUEB/vrrL+Tk5KBBgwZG7W7duoXz589L74OCgqBWq6X3Pj4+SE9PBwCcO3cOeXl56N+/v9E5CgsLER4ebrStY8eORu9zcnIwZ84cfP/990hJSUFxcTFu3bol9UiZ6tSpU3j22WeNtnXv3h1Lliwx2tamTRvpv52dneHq6irdBxERWRcmUkREVOOaNWsGhUKBxMREo+1NmjQBAKlQQ05ODnx8fLB3795S57h7DpK9vb3RPoVCAb1eL50DAL7//ns0btzYqJ1KpTJ6f+8wwxkzZmDXrl344IMP0KxZMzg6OuLxxx9HYWGhiXdqnorug4iIrAsTKSIiqnENGjRA//798fHHH2PKlCnlzpNq3749UlNTYWdnh6CgoCpdKzQ0FCqVCpcvX0avXr3MOva3337D+PHj8eijjwIoScouXrxo1EapVEKn01V4npYtW+K3337DuHHjjM4dGhpqVjxERGQ9mEgREZEsli9fju7du6Njx46YM2cO2rRpAxsbG/zxxx84ffo0OnTogH79+qFbt24YNmwY3nvvPTzwwANITk7G999/j0cffbTUULyyqNVqzJgxA9OmTYNer8dDDz0ErVaL3377Da6urkbJzb2aN2+OTZs2YejQoVAoFHjjjTdK9RAFBQVh3759GDVqFFQqFRo2bFjqPDNnzsSIESMQHh6Ofv36Yfv27di0aZNRBUAiIqpdmEgREZEsmjZtimPHjuGdd97BrFmzcOXKFahUKoSGhmLGjBmYNGkSFAoFfvjhB7z++uuYMGECrl27Bm9vb/Ts2RONGjUy+VpvvvkmPD09MX/+fPzzzz9wc3ND+/bt8dprr1V43IcffoinnnoKDz74IBo2bIhXXnkFWVlZRm3mzZuH5557Dk2bNkVBQQGEEKXOM2zYMCxZsgQffPABXnrpJQQHByMmJga9e/c2+R6IiMi6KERZ/+ITERERERFRubiOFBERERERkZmYSBEREREREZmJiRQREREREZGZmEgRERERERGZiYkUERERERGRmZhIERERERERmYmJFBERERERkZmYSBEREREREZmJiRQREREREZGZmEgRERERERGZiYkUERERERGRmf4fNQ3HaZREzIgAAAAASUVORK5CYII=",
            "text/plain": [
              "<Figure size 1000x500 with 1 Axes>"
            ]
          },
          "metadata": {},
          "output_type": "display_data"
        },
        {
          "name": "stdout",
          "output_type": "stream",
          "text": [
            "Best Layout:\n",
            "s: 1.0\n",
            "o: 1.0\n",
            "e: 1.0\n",
            "l: 1.0\n",
            "n: 1.2\n",
            "a: 1.2\n",
            "i: 1.5\n",
            "t: 1.5\n",
            "d: 1.7\n",
            "r: 1.7\n",
            "c: 2.0\n",
            "m: 2.0\n",
            "k: 2.2\n",
            "b: 2.2\n",
            "u: 2.4\n",
            "z: 2.4\n",
            "ñ: 2.5\n",
            ".: 2.5\n",
            ",: 2.6\n",
            "h: 2.6\n",
            "q: 2.8\n",
            "´: 2.8\n",
            "g: 2.9\n",
            "j: 2.9\n",
            "p: 3.4\n",
            "v: 3.5\n",
            "y: 3.5\n",
            "f: 3.5\n",
            "x: 3.5\n",
            "w: 3.8\n",
            "186.42330000003534\n",
            "[213.1548000000986, 200.27620000009267, 193.31600000004843, 186.42330000003534, 186.42330000003534, 186.42330000003534, 186.42330000003534, 186.42330000003534, 186.42330000003534, 186.42330000003534, 186.42330000003534, 186.42330000003534, 198.27010000006243, 198.27010000006243, 198.27010000006243, 210.30310000005366, 210.30310000005366, 210.30310000005366, 218.14060000005986, 218.14060000005986, 218.14060000005986, 218.14060000005986, 218.14060000005986, 218.14060000005986, 218.14060000005986, 218.14060000005986, 218.14060000005986, 218.14060000005986, 218.14060000005986, 218.14060000005986, 218.14060000005986, 223.5136000000641, 223.5136000000641, 223.5136000000641, 223.5136000000641, 223.5136000000641, 223.5136000000641, 223.5136000000641, 223.5136000000641, 223.5136000000641, 223.5136000000641, 223.5136000000641, 223.5136000000641, 223.5136000000641, 223.5136000000641, 223.5136000000641, 223.5136000000641, 223.5136000000641, 223.5136000000641, 223.5136000000641]\n"
          ]
        }
      ],
      "source": [
        "\n",
        "random.seed(40)\n",
        "x, y, z = fit(crossover_rate= 0.8, generations= 50, mutation_rate= 0.05, population_size= 150, selection_pressure= 0.2, plot_effort = True)\n",
        "\n",
        "\n",
        "print_layout(x)\n",
        "print(-y)\n",
        "print(z)"
      ]
    }
  ],
  "metadata": {
    "colab": {
      "provenance": []
    },
    "kernelspec": {
      "display_name": "Python 3",
      "language": "python",
      "name": "python3"
    },
    "language_info": {
      "codemirror_mode": {
        "name": "ipython",
        "version": 3
      },
      "file_extension": ".py",
      "mimetype": "text/x-python",
      "name": "python",
      "nbconvert_exporter": "python",
      "pygments_lexer": "ipython3",
      "version": "3.10.2"
    }
  },
  "nbformat": 4,
  "nbformat_minor": 0
}
